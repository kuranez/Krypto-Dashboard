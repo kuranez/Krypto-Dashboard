{
 "cells": [
  {
   "cell_type": "markdown",
   "id": "09eb80d4-1836-4012-9ac5-44ed6a3bc63d",
   "metadata": {},
   "source": [
    "# Cryptocurrency Dashboard"
   ]
  },
  {
   "cell_type": "markdown",
   "id": "fc4a826d-20ac-4fac-855a-e3cecf731871",
   "metadata": {},
   "source": [
    "## Code Structure"
   ]
  },
  {
   "cell_type": "markdown",
   "id": "5aa597a7-8852-4099-8855-b4a23720c37f",
   "metadata": {},
   "source": [
    "**I.** **Import** \n",
    "\n",
    "**II.** **Initialize Panel** \n",
    "\n",
    "**III.** **Constants & Variables** \n",
    "\n",
    "- Binance API Keys & URLs \n",
    "- Cryptocurrency Symbols\n",
    "- Symbol Colors for Plotly\n",
    "- Moving Averages Periods\n",
    "- Time Intervals **NEW**\n",
    "\n",
    "**IV.** **Helper Functions** \n",
    "- Fetch Historical Price Data from Binance\n",
    "- Fetch Top Symbols for ETH- & BNB-Chain **NEW**\n",
    "- Filter Outliers\n",
    "- Calculate All-Time-High\n",
    "- Calculate High-Lows **NEW**\n",
    "- Calculate Trendline **NEW**\n",
    "- Fetch, Save & Merge Price Data to CSV Files\n",
    "- Load Combined Data from CSV File\n",
    "- Load Symbol Data from CSV Files\n",
    "- Fetch Current Price from Binance\n",
    "- Convert Colors for Plotly\n",
    "\n",
    "**V.** **Main Work Flow**\n",
    "- Global Variables\n",
    "- Main Function\n",
    "- Run Main\n",
    "\n",
    "**VI.** **Figures**\n",
    "- Resources for Styling\n",
    "- Current Price vs. All-Time High for All Symbols\n",
    "- Stacked Price Curves for All Symbols\n",
    "- Simple Price Over Time **NEW**\n",
    "- Detailed Price Over Time\n",
    "- Simple Volume Over Time\n",
    "- Detailed Volume Over Time **NEW**\n",
    "  \n",
    "\n",
    "**VII.** **Dashboard**\n",
    "- Resources\n",
    "- Dashboard Components\n",
    "- Dashboard Creation"
   ]
  },
  {
   "cell_type": "markdown",
   "id": "2ebb6dec-29b4-4296-b79e-3d58ad5073da",
   "metadata": {},
   "source": [
    "## I. Import"
   ]
  },
  {
   "cell_type": "code",
   "execution_count": 4,
   "id": "3635bf16-4e73-430a-aac3-b85765f8ec6a",
   "metadata": {},
   "outputs": [],
   "source": [
    "# Import Libraries\n",
    "\n",
    "# General\n",
    "import os\n",
    "import requests\n",
    "from dotenv import load_dotenv\n",
    "\n",
    "# Binance API\n",
    "from binance.client import Client\n",
    "\n",
    "# Data\n",
    "import pandas as pd\n",
    "\n",
    "# Calculations\n",
    "from datetime import datetime, timedelta\n",
    "import numpy as np\n",
    "\n",
    "# Dashboard & Widgets\n",
    "import panel as pn\n",
    "\n",
    "# Plots & Colors\n",
    "import plotly.io as pio\n",
    "import plotly.graph_objects as go\n",
    "import matplotlib.colors as mcolors"
   ]
  },
  {
   "cell_type": "markdown",
   "id": "c1d83368-6787-45e0-8ac0-3e6ae48c2e73",
   "metadata": {},
   "source": [
    "## II. Initialize Panel & Figure Rendering Settings"
   ]
  },
  {
   "cell_type": "code",
   "execution_count": 5,
   "id": "b2bf67c8-13e0-443e-9a2b-9e503647cfa2",
   "metadata": {},
   "outputs": [
    {
     "data": {
      "text/html": [
       "<script type=\"esms-options\">{\"shimMode\": true}</script><style>*[data-root-id],\n",
       "*[data-root-id] > * {\n",
       "  box-sizing: border-box;\n",
       "  font-family: var(--jp-ui-font-family);\n",
       "  font-size: var(--jp-ui-font-size1);\n",
       "  color: var(--vscode-editor-foreground, var(--jp-ui-font-color1));\n",
       "}\n",
       "\n",
       "/* Override VSCode background color */\n",
       ".cell-output-ipywidget-background:has(\n",
       "    > .cell-output-ipywidget-background > .lm-Widget > *[data-root-id]\n",
       "  ),\n",
       ".cell-output-ipywidget-background:has(> .lm-Widget > *[data-root-id]) {\n",
       "  background-color: transparent !important;\n",
       "}\n",
       "</style>"
      ]
     },
     "metadata": {},
     "output_type": "display_data"
    },
    {
     "data": {
      "application/javascript": "(function(root) {\n  function now() {\n    return new Date();\n  }\n\n  const force = true;\n  const py_version = '3.6.2'.replace('rc', '-rc.').replace('.dev', '-dev.');\n  const reloading = false;\n  const Bokeh = root.Bokeh;\n\n  // Set a timeout for this load but only if we are not already initializing\n  if (typeof (root._bokeh_timeout) === \"undefined\" || (force || !root._bokeh_is_initializing)) {\n    root._bokeh_timeout = Date.now() + 5000;\n    root._bokeh_failed_load = false;\n  }\n\n  function run_callbacks() {\n    try {\n      root._bokeh_onload_callbacks.forEach(function(callback) {\n        if (callback != null)\n          callback();\n      });\n    } finally {\n      delete root._bokeh_onload_callbacks;\n    }\n    console.debug(\"Bokeh: all callbacks have finished\");\n  }\n\n  function load_libs(css_urls, js_urls, js_modules, js_exports, callback) {\n    if (css_urls == null) css_urls = [];\n    if (js_urls == null) js_urls = [];\n    if (js_modules == null) js_modules = [];\n    if (js_exports == null) js_exports = {};\n\n    root._bokeh_onload_callbacks.push(callback);\n\n    if (root._bokeh_is_loading > 0) {\n      // Don't load bokeh if it is still initializing\n      console.debug(\"Bokeh: BokehJS is being loaded, scheduling callback at\", now());\n      return null;\n    } else if (js_urls.length === 0 && js_modules.length === 0 && Object.keys(js_exports).length === 0) {\n      // There is nothing to load\n      run_callbacks();\n      return null;\n    }\n\n    function on_load() {\n      root._bokeh_is_loading--;\n      if (root._bokeh_is_loading === 0) {\n        console.debug(\"Bokeh: all BokehJS libraries/stylesheets loaded\");\n        run_callbacks()\n      }\n    }\n    window._bokeh_on_load = on_load\n\n    function on_error(e) {\n      const src_el = e.srcElement\n      console.error(\"failed to load \" + (src_el.href || src_el.src));\n    }\n\n    const skip = [];\n    if (window.requirejs) {\n      window.requirejs.config({'packages': {}, 'paths': {'tabulator': 'https://cdn.jsdelivr.net/npm/tabulator-tables@6.3.1/dist/js/tabulator.min', 'moment': 'https://cdn.jsdelivr.net/npm/luxon/build/global/luxon.min', 'plotly': 'https://cdn.plot.ly/plotly-3.0.1.min'}, 'shim': {}});\n      require([\"tabulator\"], function(Tabulator) {\n        window.Tabulator = Tabulator\n        on_load()\n      })\n      require([\"moment\"], function(moment) {\n        window.moment = moment\n        on_load()\n      })\n      require([\"plotly\"], function(Plotly) {\n        window.Plotly = Plotly\n        on_load()\n      })\n      root._bokeh_is_loading = css_urls.length + 3;\n    } else {\n      root._bokeh_is_loading = css_urls.length + js_urls.length + js_modules.length + Object.keys(js_exports).length;\n    }\n\n    const existing_stylesheets = []\n    const links = document.getElementsByTagName('link')\n    for (let i = 0; i < links.length; i++) {\n      const link = links[i]\n      if (link.href != null) {\n        existing_stylesheets.push(link.href)\n      }\n    }\n    for (let i = 0; i < css_urls.length; i++) {\n      const url = css_urls[i];\n      const escaped = encodeURI(url)\n      if (existing_stylesheets.indexOf(escaped) !== -1) {\n        on_load()\n        continue;\n      }\n      const element = document.createElement(\"link\");\n      element.onload = on_load;\n      element.onerror = on_error;\n      element.rel = \"stylesheet\";\n      element.type = \"text/css\";\n      element.href = url;\n      console.debug(\"Bokeh: injecting link tag for BokehJS stylesheet: \", url);\n      document.body.appendChild(element);\n    }    if (((window.Tabulator !== undefined) && (!(window.Tabulator instanceof HTMLElement))) || window.requirejs) {\n      var urls = ['https://cdn.holoviz.org/panel/1.7.0/dist/bundled/datatabulator/tabulator-tables@6.3.1/dist/js/tabulator.min.js'];\n      for (var i = 0; i < urls.length; i++) {\n        skip.push(encodeURI(urls[i]))\n      }\n    }    if (((window.moment !== undefined) && (!(window.moment instanceof HTMLElement))) || window.requirejs) {\n      var urls = ['https://cdn.holoviz.org/panel/1.7.0/dist/bundled/datatabulator/luxon/build/global/luxon.min.js'];\n      for (var i = 0; i < urls.length; i++) {\n        skip.push(encodeURI(urls[i]))\n      }\n    }    if (((window.Plotly !== undefined) && (!(window.Plotly instanceof HTMLElement))) || window.requirejs) {\n      var urls = [];\n      for (var i = 0; i < urls.length; i++) {\n        skip.push(encodeURI(urls[i]))\n      }\n    }    var existing_scripts = []\n    const scripts = document.getElementsByTagName('script')\n    for (let i = 0; i < scripts.length; i++) {\n      var script = scripts[i]\n      if (script.src != null) {\n        existing_scripts.push(script.src)\n      }\n    }\n    for (let i = 0; i < js_urls.length; i++) {\n      const url = js_urls[i];\n      const escaped = encodeURI(url)\n      if (skip.indexOf(escaped) !== -1 || existing_scripts.indexOf(escaped) !== -1) {\n        if (!window.requirejs) {\n          on_load();\n        }\n        continue;\n      }\n      const element = document.createElement('script');\n      element.onload = on_load;\n      element.onerror = on_error;\n      element.async = false;\n      element.src = url;\n      console.debug(\"Bokeh: injecting script tag for BokehJS library: \", url);\n      document.head.appendChild(element);\n    }\n    for (let i = 0; i < js_modules.length; i++) {\n      const url = js_modules[i];\n      const escaped = encodeURI(url)\n      if (skip.indexOf(escaped) !== -1 || existing_scripts.indexOf(escaped) !== -1) {\n        if (!window.requirejs) {\n          on_load();\n        }\n        continue;\n      }\n      var element = document.createElement('script');\n      element.onload = on_load;\n      element.onerror = on_error;\n      element.async = false;\n      element.src = url;\n      element.type = \"module\";\n      console.debug(\"Bokeh: injecting script tag for BokehJS library: \", url);\n      document.head.appendChild(element);\n    }\n    for (const name in js_exports) {\n      const url = js_exports[name];\n      const escaped = encodeURI(url)\n      if (skip.indexOf(escaped) >= 0 || root[name] != null) {\n        if (!window.requirejs) {\n          on_load();\n        }\n        continue;\n      }\n      var element = document.createElement('script');\n      element.onerror = on_error;\n      element.async = false;\n      element.type = \"module\";\n      console.debug(\"Bokeh: injecting script tag for BokehJS library: \", url);\n      element.textContent = `\n      import ${name} from \"${url}\"\n      window.${name} = ${name}\n      window._bokeh_on_load()\n      `\n      document.head.appendChild(element);\n    }\n    if (!js_urls.length && !js_modules.length) {\n      on_load()\n    }\n  };\n\n  function inject_raw_css(css) {\n    const element = document.createElement(\"style\");\n    element.appendChild(document.createTextNode(css));\n    document.body.appendChild(element);\n  }\n\n  const js_urls = [\"https://cdn.holoviz.org/panel/1.7.0/dist/bundled/reactiveesm/es-module-shims@^1.10.0/dist/es-module-shims.min.js\", \"https://cdn.holoviz.org/panel/1.7.0/dist/bundled/plotlyplot/plotly-3.0.1.min.js\", \"https://cdn.holoviz.org/panel/1.7.0/dist/bundled/datatabulator/tabulator-tables@6.3.1/dist/js/tabulator.min.js\", \"https://cdn.holoviz.org/panel/1.7.0/dist/bundled/datatabulator/luxon/build/global/luxon.min.js\", \"https://cdn.bokeh.org/bokeh/release/bokeh-3.6.2.min.js\", \"https://cdn.bokeh.org/bokeh/release/bokeh-gl-3.6.2.min.js\", \"https://cdn.bokeh.org/bokeh/release/bokeh-widgets-3.6.2.min.js\", \"https://cdn.bokeh.org/bokeh/release/bokeh-tables-3.6.2.min.js\", \"https://cdn.holoviz.org/panel/1.7.0/dist/panel.min.js\"];\n  const js_modules = [];\n  const js_exports = {};\n  const css_urls = [\"https://cdn.holoviz.org/panel/1.7.0/dist/bundled/plotlyplot/maplibre-gl@4.4.1/dist/maplibre-gl.css?v=1.7.0\", \"https://cdn.holoviz.org/panel/1.7.0/dist/bundled/datatabulator/tabulator-tables@6.3.1/dist/css/tabulator_simple.min.css?v=1.7.0\"];\n  const inline_js = [    function(Bokeh) {\n      Bokeh.set_log_level(\"info\");\n    },\nfunction(Bokeh) {} // ensure no trailing comma for IE\n  ];\n\n  function run_inline_js() {\n    if ((root.Bokeh !== undefined) || (force === true)) {\n      for (let i = 0; i < inline_js.length; i++) {\n        try {\n          inline_js[i].call(root, root.Bokeh);\n        } catch(e) {\n          if (!reloading) {\n            throw e;\n          }\n        }\n      }\n      // Cache old bokeh versions\n      if (Bokeh != undefined && !reloading) {\n        var NewBokeh = root.Bokeh;\n        if (Bokeh.versions === undefined) {\n          Bokeh.versions = new Map();\n        }\n        if (NewBokeh.version !== Bokeh.version) {\n          Bokeh.versions.set(NewBokeh.version, NewBokeh)\n        }\n        root.Bokeh = Bokeh;\n      }\n    } else if (Date.now() < root._bokeh_timeout) {\n      setTimeout(run_inline_js, 100);\n    } else if (!root._bokeh_failed_load) {\n      console.log(\"Bokeh: BokehJS failed to load within specified timeout.\");\n      root._bokeh_failed_load = true;\n    }\n    root._bokeh_is_initializing = false\n  }\n\n  function load_or_wait() {\n    // Implement a backoff loop that tries to ensure we do not load multiple\n    // versions of Bokeh and its dependencies at the same time.\n    // In recent versions we use the root._bokeh_is_initializing flag\n    // to determine whether there is an ongoing attempt to initialize\n    // bokeh, however for backward compatibility we also try to ensure\n    // that we do not start loading a newer (Panel>=1.0 and Bokeh>3) version\n    // before older versions are fully initialized.\n    if (root._bokeh_is_initializing && Date.now() > root._bokeh_timeout) {\n      // If the timeout and bokeh was not successfully loaded we reset\n      // everything and try loading again\n      root._bokeh_timeout = Date.now() + 5000;\n      root._bokeh_is_initializing = false;\n      root._bokeh_onload_callbacks = undefined;\n      root._bokeh_is_loading = 0\n      console.log(\"Bokeh: BokehJS was loaded multiple times but one version failed to initialize.\");\n      load_or_wait();\n    } else if (root._bokeh_is_initializing || (typeof root._bokeh_is_initializing === \"undefined\" && root._bokeh_onload_callbacks !== undefined)) {\n      setTimeout(load_or_wait, 100);\n    } else {\n      root._bokeh_is_initializing = true\n      root._bokeh_onload_callbacks = []\n      const bokeh_loaded = root.Bokeh != null && (root.Bokeh.version === py_version || (root.Bokeh.versions !== undefined && root.Bokeh.versions.has(py_version)));\n      if (!reloading && !bokeh_loaded) {\n        if (root.Bokeh) {\n          root.Bokeh = undefined;\n        }\n        console.debug(\"Bokeh: BokehJS not loaded, scheduling load and callback at\", now());\n      }\n      load_libs(css_urls, js_urls, js_modules, js_exports, function() {\n        console.debug(\"Bokeh: BokehJS plotting callback run at\", now());\n        run_inline_js();\n      });\n    }\n  }\n  // Give older versions of the autoload script a head-start to ensure\n  // they initialize before we start loading newer version.\n  setTimeout(load_or_wait, 100)\n}(window));",
      "application/vnd.holoviews_load.v0+json": ""
     },
     "metadata": {},
     "output_type": "display_data"
    },
    {
     "data": {
      "application/javascript": "\nif ((window.PyViz === undefined) || (window.PyViz instanceof HTMLElement)) {\n  window.PyViz = {comms: {}, comm_status:{}, kernels:{}, receivers: {}, plot_index: []}\n}\n\n\n    function JupyterCommManager() {\n    }\n\n    JupyterCommManager.prototype.register_target = function(plot_id, comm_id, msg_handler) {\n      if (window.comm_manager || ((window.Jupyter !== undefined) && (Jupyter.notebook.kernel != null))) {\n        var comm_manager = window.comm_manager || Jupyter.notebook.kernel.comm_manager;\n        comm_manager.register_target(comm_id, function(comm) {\n          comm.on_msg(msg_handler);\n        });\n      } else if ((plot_id in window.PyViz.kernels) && (window.PyViz.kernels[plot_id])) {\n        window.PyViz.kernels[plot_id].registerCommTarget(comm_id, function(comm) {\n          comm.onMsg = msg_handler;\n        });\n      } else if (typeof google != 'undefined' && google.colab.kernel != null) {\n        google.colab.kernel.comms.registerTarget(comm_id, (comm) => {\n          var messages = comm.messages[Symbol.asyncIterator]();\n          function processIteratorResult(result) {\n            var message = result.value;\n            console.log(message)\n            var content = {data: message.data, comm_id};\n            var buffers = []\n            for (var buffer of message.buffers || []) {\n              buffers.push(new DataView(buffer))\n            }\n            var metadata = message.metadata || {};\n            var msg = {content, buffers, metadata}\n            msg_handler(msg);\n            return messages.next().then(processIteratorResult);\n          }\n          return messages.next().then(processIteratorResult);\n        })\n      }\n    }\n\n    JupyterCommManager.prototype.get_client_comm = function(plot_id, comm_id, msg_handler) {\n      if (comm_id in window.PyViz.comms) {\n        return window.PyViz.comms[comm_id];\n      } else if (window.comm_manager || ((window.Jupyter !== undefined) && (Jupyter.notebook.kernel != null))) {\n        var comm_manager = window.comm_manager || Jupyter.notebook.kernel.comm_manager;\n        var comm = comm_manager.new_comm(comm_id, {}, {}, {}, comm_id);\n        if (msg_handler) {\n          comm.on_msg(msg_handler);\n        }\n      } else if ((plot_id in window.PyViz.kernels) && (window.PyViz.kernels[plot_id])) {\n        var comm = window.PyViz.kernels[plot_id].connectToComm(comm_id);\n        comm.open();\n        if (msg_handler) {\n          comm.onMsg = msg_handler;\n        }\n      } else if (typeof google != 'undefined' && google.colab.kernel != null) {\n        var comm_promise = google.colab.kernel.comms.open(comm_id)\n        comm_promise.then((comm) => {\n          window.PyViz.comms[comm_id] = comm;\n          if (msg_handler) {\n            var messages = comm.messages[Symbol.asyncIterator]();\n            function processIteratorResult(result) {\n              var message = result.value;\n              var content = {data: message.data};\n              var metadata = message.metadata || {comm_id};\n              var msg = {content, metadata}\n              msg_handler(msg);\n              return messages.next().then(processIteratorResult);\n            }\n            return messages.next().then(processIteratorResult);\n          }\n        }) \n        var sendClosure = (data, metadata, buffers, disposeOnDone) => {\n          return comm_promise.then((comm) => {\n            comm.send(data, metadata, buffers, disposeOnDone);\n          });\n        };\n        var comm = {\n          send: sendClosure\n        };\n      }\n      window.PyViz.comms[comm_id] = comm;\n      return comm;\n    }\n    window.PyViz.comm_manager = new JupyterCommManager();\n    \n\n\nvar JS_MIME_TYPE = 'application/javascript';\nvar HTML_MIME_TYPE = 'text/html';\nvar EXEC_MIME_TYPE = 'application/vnd.holoviews_exec.v0+json';\nvar CLASS_NAME = 'output';\n\n/**\n * Render data to the DOM node\n */\nfunction render(props, node) {\n  var div = document.createElement(\"div\");\n  var script = document.createElement(\"script\");\n  node.appendChild(div);\n  node.appendChild(script);\n}\n\n/**\n * Handle when a new output is added\n */\nfunction handle_add_output(event, handle) {\n  var output_area = handle.output_area;\n  var output = handle.output;\n  if ((output.data == undefined) || (!output.data.hasOwnProperty(EXEC_MIME_TYPE))) {\n    return\n  }\n  var id = output.metadata[EXEC_MIME_TYPE][\"id\"];\n  var toinsert = output_area.element.find(\".\" + CLASS_NAME.split(' ')[0]);\n  if (id !== undefined) {\n    var nchildren = toinsert.length;\n    var html_node = toinsert[nchildren-1].children[0];\n    html_node.innerHTML = output.data[HTML_MIME_TYPE];\n    var scripts = [];\n    var nodelist = html_node.querySelectorAll(\"script\");\n    for (var i in nodelist) {\n      if (nodelist.hasOwnProperty(i)) {\n        scripts.push(nodelist[i])\n      }\n    }\n\n    scripts.forEach( function (oldScript) {\n      var newScript = document.createElement(\"script\");\n      var attrs = [];\n      var nodemap = oldScript.attributes;\n      for (var j in nodemap) {\n        if (nodemap.hasOwnProperty(j)) {\n          attrs.push(nodemap[j])\n        }\n      }\n      attrs.forEach(function(attr) { newScript.setAttribute(attr.name, attr.value) });\n      newScript.appendChild(document.createTextNode(oldScript.innerHTML));\n      oldScript.parentNode.replaceChild(newScript, oldScript);\n    });\n    if (JS_MIME_TYPE in output.data) {\n      toinsert[nchildren-1].children[1].textContent = output.data[JS_MIME_TYPE];\n    }\n    output_area._hv_plot_id = id;\n    if ((window.Bokeh !== undefined) && (id in Bokeh.index)) {\n      window.PyViz.plot_index[id] = Bokeh.index[id];\n    } else {\n      window.PyViz.plot_index[id] = null;\n    }\n  } else if (output.metadata[EXEC_MIME_TYPE][\"server_id\"] !== undefined) {\n    var bk_div = document.createElement(\"div\");\n    bk_div.innerHTML = output.data[HTML_MIME_TYPE];\n    var script_attrs = bk_div.children[0].attributes;\n    for (var i = 0; i < script_attrs.length; i++) {\n      toinsert[toinsert.length - 1].childNodes[1].setAttribute(script_attrs[i].name, script_attrs[i].value);\n    }\n    // store reference to server id on output_area\n    output_area._bokeh_server_id = output.metadata[EXEC_MIME_TYPE][\"server_id\"];\n  }\n}\n\n/**\n * Handle when an output is cleared or removed\n */\nfunction handle_clear_output(event, handle) {\n  var id = handle.cell.output_area._hv_plot_id;\n  var server_id = handle.cell.output_area._bokeh_server_id;\n  if (((id === undefined) || !(id in PyViz.plot_index)) && (server_id !== undefined)) { return; }\n  var comm = window.PyViz.comm_manager.get_client_comm(\"hv-extension-comm\", \"hv-extension-comm\", function () {});\n  if (server_id !== null) {\n    comm.send({event_type: 'server_delete', 'id': server_id});\n    return;\n  } else if (comm !== null) {\n    comm.send({event_type: 'delete', 'id': id});\n  }\n  delete PyViz.plot_index[id];\n  if ((window.Bokeh !== undefined) & (id in window.Bokeh.index)) {\n    var doc = window.Bokeh.index[id].model.document\n    doc.clear();\n    const i = window.Bokeh.documents.indexOf(doc);\n    if (i > -1) {\n      window.Bokeh.documents.splice(i, 1);\n    }\n  }\n}\n\n/**\n * Handle kernel restart event\n */\nfunction handle_kernel_cleanup(event, handle) {\n  delete PyViz.comms[\"hv-extension-comm\"];\n  window.PyViz.plot_index = {}\n}\n\n/**\n * Handle update_display_data messages\n */\nfunction handle_update_output(event, handle) {\n  handle_clear_output(event, {cell: {output_area: handle.output_area}})\n  handle_add_output(event, handle)\n}\n\nfunction register_renderer(events, OutputArea) {\n  function append_mime(data, metadata, element) {\n    // create a DOM node to render to\n    var toinsert = this.create_output_subarea(\n    metadata,\n    CLASS_NAME,\n    EXEC_MIME_TYPE\n    );\n    this.keyboard_manager.register_events(toinsert);\n    // Render to node\n    var props = {data: data, metadata: metadata[EXEC_MIME_TYPE]};\n    render(props, toinsert[0]);\n    element.append(toinsert);\n    return toinsert\n  }\n\n  events.on('output_added.OutputArea', handle_add_output);\n  events.on('output_updated.OutputArea', handle_update_output);\n  events.on('clear_output.CodeCell', handle_clear_output);\n  events.on('delete.Cell', handle_clear_output);\n  events.on('kernel_ready.Kernel', handle_kernel_cleanup);\n\n  OutputArea.prototype.register_mime_type(EXEC_MIME_TYPE, append_mime, {\n    safe: true,\n    index: 0\n  });\n}\n\nif (window.Jupyter !== undefined) {\n  try {\n    var events = require('base/js/events');\n    var OutputArea = require('notebook/js/outputarea').OutputArea;\n    if (OutputArea.prototype.mime_types().indexOf(EXEC_MIME_TYPE) == -1) {\n      register_renderer(events, OutputArea);\n    }\n  } catch(err) {\n  }\n}\n",
      "application/vnd.holoviews_load.v0+json": ""
     },
     "metadata": {},
     "output_type": "display_data"
    },
    {
     "data": {
      "application/vnd.holoviews_exec.v0+json": "",
      "text/html": [
       "<div id='59c0c984-ab39-4d33-811e-ad3c56d218e5'>\n",
       "  <div id=\"c19ff340-0aaf-4510-aa16-a1a7cc5295aa\" data-root-id=\"59c0c984-ab39-4d33-811e-ad3c56d218e5\" style=\"display: contents;\"></div>\n",
       "</div>\n",
       "<script type=\"application/javascript\">(function(root) {\n",
       "  var docs_json = {\"e0202d38-8842-40b1-bd65-8dc20eb5338f\":{\"version\":\"3.6.2\",\"title\":\"Bokeh Application\",\"roots\":[{\"type\":\"object\",\"name\":\"panel.models.browser.BrowserInfo\",\"id\":\"59c0c984-ab39-4d33-811e-ad3c56d218e5\"},{\"type\":\"object\",\"name\":\"panel.models.comm_manager.CommManager\",\"id\":\"2c0ee931-ad42-4845-bf88-8a334a6641ce\",\"attributes\":{\"plot_id\":\"59c0c984-ab39-4d33-811e-ad3c56d218e5\",\"comm_id\":\"19730f4c160540bebbac327f68836ab1\",\"client_comm_id\":\"bfd8c33ca63741fa895548f5205b5d1f\"}}],\"defs\":[{\"type\":\"model\",\"name\":\"ReactiveHTML1\"},{\"type\":\"model\",\"name\":\"FlexBox1\",\"properties\":[{\"name\":\"align_content\",\"kind\":\"Any\",\"default\":\"flex-start\"},{\"name\":\"align_items\",\"kind\":\"Any\",\"default\":\"flex-start\"},{\"name\":\"flex_direction\",\"kind\":\"Any\",\"default\":\"row\"},{\"name\":\"flex_wrap\",\"kind\":\"Any\",\"default\":\"wrap\"},{\"name\":\"gap\",\"kind\":\"Any\",\"default\":\"\"},{\"name\":\"justify_content\",\"kind\":\"Any\",\"default\":\"flex-start\"}]},{\"type\":\"model\",\"name\":\"FloatPanel1\",\"properties\":[{\"name\":\"config\",\"kind\":\"Any\",\"default\":{\"type\":\"map\"}},{\"name\":\"contained\",\"kind\":\"Any\",\"default\":true},{\"name\":\"position\",\"kind\":\"Any\",\"default\":\"right-top\"},{\"name\":\"offsetx\",\"kind\":\"Any\",\"default\":null},{\"name\":\"offsety\",\"kind\":\"Any\",\"default\":null},{\"name\":\"theme\",\"kind\":\"Any\",\"default\":\"primary\"},{\"name\":\"status\",\"kind\":\"Any\",\"default\":\"normalized\"}]},{\"type\":\"model\",\"name\":\"GridStack1\",\"properties\":[{\"name\":\"ncols\",\"kind\":\"Any\",\"default\":null},{\"name\":\"nrows\",\"kind\":\"Any\",\"default\":null},{\"name\":\"allow_resize\",\"kind\":\"Any\",\"default\":true},{\"name\":\"allow_drag\",\"kind\":\"Any\",\"default\":true},{\"name\":\"state\",\"kind\":\"Any\",\"default\":[]}]},{\"type\":\"model\",\"name\":\"drag1\",\"properties\":[{\"name\":\"slider_width\",\"kind\":\"Any\",\"default\":5},{\"name\":\"slider_color\",\"kind\":\"Any\",\"default\":\"black\"},{\"name\":\"value\",\"kind\":\"Any\",\"default\":50}]},{\"type\":\"model\",\"name\":\"click1\",\"properties\":[{\"name\":\"terminal_output\",\"kind\":\"Any\",\"default\":\"\"},{\"name\":\"debug_name\",\"kind\":\"Any\",\"default\":\"\"},{\"name\":\"clears\",\"kind\":\"Any\",\"default\":0}]},{\"type\":\"model\",\"name\":\"FastWrapper1\",\"properties\":[{\"name\":\"object\",\"kind\":\"Any\",\"default\":null},{\"name\":\"style\",\"kind\":\"Any\",\"default\":null}]},{\"type\":\"model\",\"name\":\"NotificationArea1\",\"properties\":[{\"name\":\"js_events\",\"kind\":\"Any\",\"default\":{\"type\":\"map\"}},{\"name\":\"max_notifications\",\"kind\":\"Any\",\"default\":5},{\"name\":\"notifications\",\"kind\":\"Any\",\"default\":[]},{\"name\":\"position\",\"kind\":\"Any\",\"default\":\"bottom-right\"},{\"name\":\"_clear\",\"kind\":\"Any\",\"default\":0},{\"name\":\"types\",\"kind\":\"Any\",\"default\":[{\"type\":\"map\",\"entries\":[[\"type\",\"warning\"],[\"background\",\"#ffc107\"],[\"icon\",{\"type\":\"map\",\"entries\":[[\"className\",\"fas fa-exclamation-triangle\"],[\"tagName\",\"i\"],[\"color\",\"white\"]]}]]},{\"type\":\"map\",\"entries\":[[\"type\",\"info\"],[\"background\",\"#007bff\"],[\"icon\",{\"type\":\"map\",\"entries\":[[\"className\",\"fas fa-info-circle\"],[\"tagName\",\"i\"],[\"color\",\"white\"]]}]]}]}]},{\"type\":\"model\",\"name\":\"Notification\",\"properties\":[{\"name\":\"background\",\"kind\":\"Any\",\"default\":null},{\"name\":\"duration\",\"kind\":\"Any\",\"default\":3000},{\"name\":\"icon\",\"kind\":\"Any\",\"default\":null},{\"name\":\"message\",\"kind\":\"Any\",\"default\":\"\"},{\"name\":\"notification_type\",\"kind\":\"Any\",\"default\":null},{\"name\":\"_rendered\",\"kind\":\"Any\",\"default\":false},{\"name\":\"_destroyed\",\"kind\":\"Any\",\"default\":false}]},{\"type\":\"model\",\"name\":\"TemplateActions1\",\"properties\":[{\"name\":\"open_modal\",\"kind\":\"Any\",\"default\":0},{\"name\":\"close_modal\",\"kind\":\"Any\",\"default\":0}]},{\"type\":\"model\",\"name\":\"BootstrapTemplateActions1\",\"properties\":[{\"name\":\"open_modal\",\"kind\":\"Any\",\"default\":0},{\"name\":\"close_modal\",\"kind\":\"Any\",\"default\":0}]},{\"type\":\"model\",\"name\":\"TemplateEditor1\",\"properties\":[{\"name\":\"layout\",\"kind\":\"Any\",\"default\":[]}]},{\"type\":\"model\",\"name\":\"MaterialTemplateActions1\",\"properties\":[{\"name\":\"open_modal\",\"kind\":\"Any\",\"default\":0},{\"name\":\"close_modal\",\"kind\":\"Any\",\"default\":0}]},{\"type\":\"model\",\"name\":\"ReactiveESM1\",\"properties\":[{\"name\":\"esm_constants\",\"kind\":\"Any\",\"default\":{\"type\":\"map\"}}]},{\"type\":\"model\",\"name\":\"JSComponent1\",\"properties\":[{\"name\":\"esm_constants\",\"kind\":\"Any\",\"default\":{\"type\":\"map\"}}]},{\"type\":\"model\",\"name\":\"ReactComponent1\",\"properties\":[{\"name\":\"esm_constants\",\"kind\":\"Any\",\"default\":{\"type\":\"map\"}}]},{\"type\":\"model\",\"name\":\"AnyWidgetComponent1\",\"properties\":[{\"name\":\"esm_constants\",\"kind\":\"Any\",\"default\":{\"type\":\"map\"}}]},{\"type\":\"model\",\"name\":\"request_value1\",\"properties\":[{\"name\":\"fill\",\"kind\":\"Any\",\"default\":\"none\"},{\"name\":\"_synced\",\"kind\":\"Any\",\"default\":null},{\"name\":\"_request_sync\",\"kind\":\"Any\",\"default\":0}]}]}};\n",
       "  var render_items = [{\"docid\":\"e0202d38-8842-40b1-bd65-8dc20eb5338f\",\"roots\":{\"59c0c984-ab39-4d33-811e-ad3c56d218e5\":\"c19ff340-0aaf-4510-aa16-a1a7cc5295aa\"},\"root_ids\":[\"59c0c984-ab39-4d33-811e-ad3c56d218e5\"]}];\n",
       "  var docs = Object.values(docs_json)\n",
       "  if (!docs) {\n",
       "    return\n",
       "  }\n",
       "  const py_version = docs[0].version.replace('rc', '-rc.').replace('.dev', '-dev.')\n",
       "  async function embed_document(root) {\n",
       "    var Bokeh = get_bokeh(root)\n",
       "    await Bokeh.embed.embed_items_notebook(docs_json, render_items);\n",
       "    for (const render_item of render_items) {\n",
       "      for (const root_id of render_item.root_ids) {\n",
       "\tconst id_el = document.getElementById(root_id)\n",
       "\tif (id_el.children.length && id_el.children[0].hasAttribute('data-root-id')) {\n",
       "\t  const root_el = id_el.children[0]\n",
       "\t  root_el.id = root_el.id + '-rendered'\n",
       "\t  for (const child of root_el.children) {\n",
       "            // Ensure JupyterLab does not capture keyboard shortcuts\n",
       "            // see: https://jupyterlab.readthedocs.io/en/4.1.x/extension/notebook.html#keyboard-interaction-model\n",
       "\t    child.setAttribute('data-lm-suppress-shortcuts', 'true')\n",
       "\t  }\n",
       "\t}\n",
       "      }\n",
       "    }\n",
       "  }\n",
       "  function get_bokeh(root) {\n",
       "    if (root.Bokeh === undefined) {\n",
       "      return null\n",
       "    } else if (root.Bokeh.version !== py_version) {\n",
       "      if (root.Bokeh.versions === undefined || !root.Bokeh.versions.has(py_version)) {\n",
       "\treturn null\n",
       "      }\n",
       "      return root.Bokeh.versions.get(py_version);\n",
       "    } else if (root.Bokeh.version === py_version) {\n",
       "      return root.Bokeh\n",
       "    }\n",
       "    return null\n",
       "  }\n",
       "  function is_loaded(root) {\n",
       "    var Bokeh = get_bokeh(root)\n",
       "    return (Bokeh != null && Bokeh.Panel !== undefined && ( root.Tabulator !== undefined) && ( root.Plotly !== undefined) && ( root.Tabulator !== undefined) && ( root.Plotly !== undefined))\n",
       "  }\n",
       "  if (is_loaded(root)) {\n",
       "    embed_document(root);\n",
       "  } else {\n",
       "    var attempts = 0;\n",
       "    var timer = setInterval(function(root) {\n",
       "      if (is_loaded(root)) {\n",
       "        clearInterval(timer);\n",
       "        embed_document(root);\n",
       "      } else if (document.readyState == \"complete\") {\n",
       "        attempts++;\n",
       "        if (attempts > 200) {\n",
       "          clearInterval(timer);\n",
       "\t  var Bokeh = get_bokeh(root)\n",
       "\t  if (Bokeh == null || Bokeh.Panel == null) {\n",
       "            console.warn(\"Panel: ERROR: Unable to run Panel code because Bokeh or Panel library is missing\");\n",
       "\t  } else {\n",
       "\t    console.warn(\"Panel: WARNING: Attempting to render but not all required libraries could be resolved.\")\n",
       "\t    embed_document(root)\n",
       "\t  }\n",
       "        }\n",
       "      }\n",
       "    }, 25, root)\n",
       "  }\n",
       "})(window);</script>"
      ]
     },
     "metadata": {
      "application/vnd.holoviews_exec.v0+json": {
       "id": "59c0c984-ab39-4d33-811e-ad3c56d218e5"
      }
     },
     "output_type": "display_data"
    }
   ],
   "source": [
    "pn.extension('tabulator', 'plotly', sizing_mode=\"stretch_width\")"
   ]
  },
  {
   "cell_type": "code",
   "execution_count": 88,
   "id": "ff30a14b",
   "metadata": {},
   "outputs": [],
   "source": [
    "# print(pio.renderers)"
   ]
  },
  {
   "cell_type": "code",
   "execution_count": 89,
   "id": "8b6dc353",
   "metadata": {},
   "outputs": [],
   "source": [
    "# pio.renderers.default = \"plotly_mimetype+notebook_connected\""
   ]
  },
  {
   "cell_type": "markdown",
   "id": "afcb606d-85fe-4368-8b70-f2b752b32fb4",
   "metadata": {},
   "source": [
    "## III. Constants & Variables"
   ]
  },
  {
   "cell_type": "markdown",
   "id": "4a8aeffa-3768-47a2-9d42-c1b2a03a7b5c",
   "metadata": {},
   "source": [
    "### Binance API"
   ]
  },
  {
   "cell_type": "code",
   "execution_count": 46,
   "id": "40a1fd9b-9a8c-4843-aea1-e847669ced92",
   "metadata": {},
   "outputs": [],
   "source": [
    "# Load API Key from .env file\n",
    "load_dotenv('keys.env')\n",
    "BINANCE_API_KEY = os.getenv('BINANCE_API_KEY')\n",
    "\n",
    "# Binance API \n",
    "BINANCE_API_URL = 'https://api.binance.com/api/v3/klines'\n",
    "BINANCE_API_URL_CURRENT_PRICE = 'https://api.binance.com/api/v3/ticker/price?symbol='"
   ]
  },
  {
   "cell_type": "code",
   "execution_count": 47,
   "id": "94aa7891-3b15-4238-94d8-152c20d29422",
   "metadata": {},
   "outputs": [],
   "source": [
    "client = Client(BINANCE_API_KEY)"
   ]
  },
  {
   "cell_type": "markdown",
   "id": "210fdabb-d2e0-43d6-8866-b0a7557bd832",
   "metadata": {},
   "source": [
    "### Cryptocurrency Symbols"
   ]
  },
  {
   "cell_type": "code",
   "execution_count": 48,
   "id": "6df4a5ec-77fe-4742-ab98-319c5d90d8ce",
   "metadata": {},
   "outputs": [],
   "source": [
    "# Symbols\n",
    "symbols = ['BTCUSDT', 'ETHUSDT', 'BNBUSDT']"
   ]
  },
  {
   "cell_type": "markdown",
   "id": "95a03263-c9f9-4a4c-a113-f0b2c9a0c956",
   "metadata": {},
   "source": [
    "### Symbol Colors for Plotly"
   ]
  },
  {
   "cell_type": "code",
   "execution_count": 49,
   "id": "ee786d97-25aa-4162-abe5-6cbc04bcd1e2",
   "metadata": {},
   "outputs": [],
   "source": [
    "# Colors\n",
    "colors_a = {'BTC': 'orange', 'ETH': 'mediumpurple', 'BNB': 'indianred'}\n",
    "colors_b = {'BTC': 'gold', 'ETH': 'plum', 'BNB': 'lightsalmon'}"
   ]
  },
  {
   "cell_type": "markdown",
   "id": "862a228f-6c9d-4667-bf1d-8a0c90ad8a1a",
   "metadata": {},
   "source": [
    "### Moving Averages Periods"
   ]
  },
  {
   "cell_type": "code",
   "execution_count": 50,
   "id": "164d57d8-96bd-40b3-881f-92fc8cabaa0b",
   "metadata": {},
   "outputs": [],
   "source": [
    "# Moving Average Periods\n",
    "short_window = 50  # 50-day Moving Average\n",
    "long_window = 200  # 200-day Moving Average"
   ]
  },
  {
   "cell_type": "markdown",
   "id": "2525c713-2784-498a-b982-7b086bce1e9d",
   "metadata": {},
   "source": [
    "### Time Intervals"
   ]
  },
  {
   "cell_type": "code",
   "execution_count": 51,
   "id": "050aaa62-0c81-4aa9-b321-928d9ff6dd31",
   "metadata": {},
   "outputs": [],
   "source": [
    "# Time Intervals\n",
    "intervals = {\n",
    "    'All_Time': [None, None],\n",
    "    '5Y': [int((datetime.now() - timedelta(days=5*365)).timestamp() * 1000), None],\n",
    "    '1Y': [int((datetime.now() - timedelta(days=365)).timestamp() * 1000), None],\n",
    "    '6M': [int((datetime.now() - timedelta(days=180)).timestamp() * 1000), None],\n",
    "    '3M': [int((datetime.now() - timedelta(days=90)).timestamp() * 1000), None],\n",
    "    '1M': [int((datetime.now() - timedelta(days=30)).timestamp() * 1000), None],\n",
    "    '2W': [int((datetime.now() - timedelta(days=14)).timestamp() * 1000), None],\n",
    "    '1W': [int((datetime.now() - timedelta(days=7)).timestamp() * 1000), None],\n",
    "}"
   ]
  },
  {
   "cell_type": "markdown",
   "id": "c3f17217-6e80-4065-8b79-a55d7d769b3a",
   "metadata": {},
   "source": [
    "## IV. Helper Functions"
   ]
  },
  {
   "cell_type": "markdown",
   "id": "5eac4cbb-c962-4100-9471-282e081af1d7",
   "metadata": {},
   "source": [
    "### Fetch Historical Price Data from Binance"
   ]
  },
  {
   "cell_type": "markdown",
   "id": "444080ff-f66c-41c2-9d2a-a7d4a3086d85",
   "metadata": {},
   "source": [
    "The `fetch_historical_data` function retrieves historical price data for a given cryptocurrency symbol from the Binance API."
   ]
  },
  {
   "cell_type": "code",
   "execution_count": 52,
   "id": "bd3913d0-eec5-43be-bbaa-43348f531d6d",
   "metadata": {},
   "outputs": [],
   "source": [
    "# Fetch Historical Price Data from Binance\n",
    "\n",
    "def fetch_historical_data(symbol='BTCUSDT', interval='1d', start_time=None, end_time=None, limit=5000):\n",
    "    \"\"\"Fetch historical data for a given symbol from Binance API.\"\"\"\n",
    "    \n",
    "    # Parameters to be sent in the request to Binance API\n",
    "    params = {\n",
    "        'symbol': symbol,\n",
    "        'interval': interval,\n",
    "        'limit': limit,\n",
    "        'startTime': start_time,\n",
    "        'endTime': end_time\n",
    "    }\n",
    "    \n",
    "    # Send API request\n",
    "    response = requests.get(BINANCE_API_URL, headers={'X-MBX-APIKEY': BINANCE_API_KEY}, params=params)\n",
    "\n",
    "    # Check Response Status\n",
    "    if response.status_code != 200:\n",
    "        print(f\"Error {response.status_code}: {response.text}\")\n",
    "        return None\n",
    "\n",
    "    # Process Data\n",
    "    data = response.json()\n",
    "    df = pd.DataFrame(data, columns=[\n",
    "        'Open Time', 'Open', 'High', 'Low', 'Close', 'Volume',\n",
    "        'Close Time', 'Quote Asset Volume', 'Number of Trades',\n",
    "        'Taker Buy Base Asset Volume', 'Taker Buy Quote Asset Volume', 'Ignore'\n",
    "    ])\n",
    "\n",
    "    # Edit DataFrame\n",
    "    \n",
    "    # Convert datatypes\n",
    "    df['Date'] = pd.to_datetime(df['Open Time'], unit='ms')\n",
    "    df['High'] = pd.to_numeric(df['High'])\n",
    "    df['Low'] = pd.to_numeric(df['Low'])\n",
    "    df['Open'] = pd.to_numeric(df['Open'])\n",
    "    df['Close'] = pd.to_numeric(df['Close'])\n",
    "    df['Volume'] = pd.to_numeric(df['Volume'])\n",
    "    \n",
    "    # Drop irrelevant columns\n",
    "    df = df.drop(columns=['Open Time', 'Close Time', 'Quote Asset Volume',\n",
    "                          'Taker Buy Base Asset Volume', 'Taker Buy Quote Asset Volume', 'Ignore'])\n",
    "    # Add Symbol Column (drop USDT from pair)\n",
    "    df['Symbol'] = symbol[:-4]\n",
    "\n",
    "    # Calculate Moving Averages\n",
    "    if len(df) < long_window:\n",
    "        print(f\"Not enough data to calculate long-term moving averages for {symbol}\")\n",
    "\n",
    "    else:\n",
    "        # Calculate Simple Moving Averages (SMA)\n",
    "        df['SMA_50'] = df['Close'].astype(float).rolling(window=short_window).mean()\n",
    "        df['SMA_200'] = df['Close'].astype(float).rolling(window=long_window).mean()\n",
    "        \n",
    "        # Calculate Exponential Moving Averages (EMA)\n",
    "        df['EMA_50'] = df['Close'].astype(float).ewm(span=short_window, adjust=False).mean()\n",
    "        df['EMA_200'] = df['Close'].astype(float).ewm(span=long_window, adjust=False).mean()\n",
    "        \n",
    "        # Handle Missing Columns\n",
    "        if 'SMA_50' not in df.columns:\n",
    "            df['SMA_50'] = pd.Series([None] * len(df))\n",
    "\n",
    "        if 'SMA_200' not in df.columns:\n",
    "            df['SMA_200'] = pd.Series([None] * len(df))\n",
    "        \n",
    "        if 'EMA_50' not in df.columns:\n",
    "            df['EMA_50'] = pd.Series([None] * len(df))\n",
    "        \n",
    "        if 'EMA_200' not in df.columns:\n",
    "            df['EMA_200'] = pd.Series([None] * len(df))\n",
    "    \n",
    "    # Return DataFrame\n",
    "    return df"
   ]
  },
  {
   "cell_type": "markdown",
   "id": "b8e68841-61be-4889-bdb2-3936bc3af03f",
   "metadata": {},
   "source": [
    "#### Test and Debug"
   ]
  },
  {
   "cell_type": "code",
   "execution_count": 53,
   "id": "efe3c85a-fa89-431e-8f25-d29874139f43",
   "metadata": {},
   "outputs": [
    {
     "name": "stdout",
     "output_type": "stream",
     "text": [
      "         Close      SMA_50      SMA_200        EMA_50       EMA_200\n",
      "990  104103.72  89633.1694  91787.70185  92931.031902  87518.982779\n",
      "991  103507.82  89955.4684  91969.77715  93345.807906  87678.075686\n",
      "992  103763.71  90292.5592  92148.48720  93754.353086  87838.131749\n",
      "993  103463.90  90617.1970  92315.99565  94135.119632  87993.612030\n",
      "994  103126.65  90991.2424  92467.94680  94487.728666  88144.189522\n",
      "995  106454.26  91467.3568  92638.49440  94957.004404  88326.379278\n",
      "996  105573.74  91931.0318  92814.90305  95373.346977  88497.994808\n",
      "997  106849.99  92417.0314  93001.67295  95823.411409  88680.601725\n",
      "998  109643.99  92906.7444  93203.01920  96365.394883  88889.192653\n",
      "999  111181.83  93480.0552  93415.04840  96946.431554  89111.009940\n"
     ]
    }
   ],
   "source": [
    "# Test and Debug\n",
    "symbol = 'BTCUSDT'\n",
    "df = fetch_historical_data(symbol=symbol)\n",
    "if df is None:\n",
    "    print(f\"No data fetched for {symbol}\")\n",
    "else:\n",
    "    print(df[['Close', 'SMA_50', 'SMA_200', 'EMA_50', 'EMA_200']].tail(10))"
   ]
  },
  {
   "cell_type": "markdown",
   "id": "d44da938-3443-428c-a616-1214869e31ef",
   "metadata": {},
   "source": [
    "#### Function Parameters"
   ]
  },
  {
   "cell_type": "markdown",
   "id": "6047a0ea-8690-4924-8ab7-f0eff8a78ac6",
   "metadata": {},
   "source": [
    "`symbol='BTCUSDT'`: The trading pair you want to fetch data for, with a default value of 'BTCUSDT' (Bitcoin to US Dollar Tether). \n",
    "\n",
    "`interval='1d'`: The time interval for each data point, with a default of '1 day' (daily candlesticks).\n",
    "\n",
    "`start_time=None`: The starting timestamp for the data. If not specified, it defaults to the earliest available data.\n",
    "\n",
    "`end_time=None`: The ending timestamp for the data. If not specified, it defaults to the most recent available data.\n",
    "\n",
    "`limit=1000`: The maximum number of data points to return. The default is 1000, but Binance API limits might impose other constraints."
   ]
  },
  {
   "cell_type": "markdown",
   "id": "54964614-5c65-497c-a9e5-232bc7373760",
   "metadata": {},
   "source": [
    "### Fetch Top 10 Altcoins by Chain"
   ]
  },
  {
   "cell_type": "code",
   "execution_count": 54,
   "id": "639e1e38-c135-4782-958a-c9f5264a0d8d",
   "metadata": {},
   "outputs": [],
   "source": [
    "def fetch_top_tokens_by_chain(chain: str, limit: int = 10, exclude_stablecoins=True):\n",
    "    # List of stablecoin suffixes to exclude\n",
    "    stablecoins = ['USDT', 'USDC', 'BUSD', 'TUSD', 'DAI', 'USDP', 'USDD', 'FDUSD', 'USD', 'EUR']\n",
    "    tickers = client.get_ticker()\n",
    "    \n",
    "    # Filter for the pairs that belong to the given chain (ETH or BNB)\n",
    "    if chain.upper() == 'ETH':\n",
    "        filtered_pairs = [\n",
    "            ticker['symbol'] for ticker in tickers\n",
    "            if 'ETH' in ticker['symbol'] and not (\n",
    "                exclude_stablecoins and any(ticker['symbol'].endswith(q) for q in stablecoins)\n",
    "            )\n",
    "        ]\n",
    "    elif chain.upper() == 'BNB':\n",
    "        filtered_pairs = [\n",
    "            ticker['symbol'] for ticker in tickers\n",
    "            if 'BNB' in ticker['symbol'] and not (\n",
    "                exclude_stablecoins and any(ticker['symbol'].endswith(q) for q in stablecoins)\n",
    "            )\n",
    "        ]\n",
    "    else:\n",
    "        raise ValueError(f\"Unsupported chain: {chain}\")\n",
    "\n",
    "    # Sort by trading volume or any other metric, for example, 24h quote volume\n",
    "    sorted_pairs = sorted(tickers, key=lambda x: float(x['quoteVolume']), reverse=True)\n",
    "    \n",
    "    # Extract the symbols of the sorted pairs, and take the top 'limit' ones\n",
    "    top_pairs = [pair['symbol'] for pair in sorted_pairs if pair['symbol'] in filtered_pairs][:limit]\n",
    "    \n",
    "    return top_pairs\n"
   ]
  },
  {
   "cell_type": "markdown",
   "id": "d1956757",
   "metadata": {},
   "source": [
    "#### Test and Debug"
   ]
  },
  {
   "cell_type": "code",
   "execution_count": 55,
   "id": "8583d883",
   "metadata": {},
   "outputs": [
    {
     "name": "stdout",
     "output_type": "stream",
     "text": [
      "Top 10 ETH tokens (no stables): ['ETHJPY', 'ETHTRY', 'ETHFITRY', 'ETHBRL', 'ETHARS', 'ETHEURI', 'ETHPLN', 'ETHMXN', 'ETHZAR', 'WBETHETH']\n"
     ]
    }
   ],
   "source": [
    "# Fetch the top 10 ETH-based tokens EXCLUDING stablecoin pairs\n",
    "eth_top_tokens = fetch_top_tokens_by_chain('ETH', limit=10)\n",
    "print(\"Top 10 ETH tokens (no stables):\", eth_top_tokens)"
   ]
  },
  {
   "cell_type": "code",
   "execution_count": 56,
   "id": "5278d919",
   "metadata": {},
   "outputs": [
    {
     "name": "stdout",
     "output_type": "stream",
     "text": [
      "Top 10 BNB tokens (no stables): ['BNBJPY', 'BNBTRY', 'BNBARS', 'BNBBRL', 'SOLBNB', 'BNBETH', 'ALTBNB', 'SUIBNB', 'XRPBNB', 'CTKBNB']\n"
     ]
    }
   ],
   "source": [
    "# Fetch the top 10 BNB-based tokens EXCLUDING stablecoin pairs\n",
    "bnb_top_tokens = fetch_top_tokens_by_chain('BNB', limit=10)\n",
    "print(\"Top 10 BNB tokens (no stables):\", bnb_top_tokens)"
   ]
  },
  {
   "cell_type": "markdown",
   "id": "cf73486f-0231-4087-ba03-a98e17192e8e",
   "metadata": {},
   "source": [
    "### Filter Outliers"
   ]
  },
  {
   "cell_type": "markdown",
   "id": "cfd52f44-6770-4ab5-b700-33d9529dc05c",
   "metadata": {},
   "source": [
    "The `filter_outliers_percentiles` function filters a column for outliers to remove buggy data. "
   ]
  },
  {
   "cell_type": "code",
   "execution_count": 57,
   "id": "e8dcd819-7004-4142-aa51-a0807d7b5ef8",
   "metadata": {},
   "outputs": [],
   "source": [
    "def filter_outliers_percentiles(df, column_name, lower_percentile=0.01, upper_percentile=99.99):\n",
    "    lower_bound = df[column_name].quantile(lower_percentile / 100)\n",
    "    upper_bound = df[column_name].quantile(upper_percentile / 100)\n",
    "    return df[(df[column_name] >= lower_bound) & (df[column_name] <= upper_bound)]"
   ]
  },
  {
   "cell_type": "markdown",
   "id": "f2db72e4-ec2b-4054-b0a6-8d8e4a6cbece",
   "metadata": {},
   "source": [
    "#### Function Parameters"
   ]
  },
  {
   "cell_type": "markdown",
   "id": "0fad265d-bd3b-45b9-8105-3a13b7d266a2",
   "metadata": {},
   "source": [
    "`df`: **Set dataframe** to look at, when calling the function. \n",
    "\n",
    "`column_name`: **Set column name** to look at, when calling the function.\n",
    "\n",
    "`lower_percentile=0.01`, \n",
    "`upper_percentile=99.99`: \n",
    "\n",
    "**Upper and Lower boundaries to filter.** Set at 0.01% and 99.99% to filter only obviously atypical data, since analyzing outliers can be important for cryptocurrency market data.\n"
   ]
  },
  {
   "cell_type": "markdown",
   "id": "1d203e80-f8b7-4014-89a2-ee7c20e6a7cc",
   "metadata": {},
   "source": [
    "#### Show , Filter & Compare Dataframe"
   ]
  },
  {
   "cell_type": "markdown",
   "id": "3e225168-63ff-4a64-9618-afb817d7e520",
   "metadata": {},
   "source": [
    "Check retrieved data before working with it."
   ]
  },
  {
   "cell_type": "code",
   "execution_count": 58,
   "id": "d38c6bef-dfc3-4825-b89c-575823a7eacb",
   "metadata": {},
   "outputs": [
    {
     "data": {
      "application/vnd.jupyter.widget-view+json": {
       "model_id": "737f35401cbf4f97b4b4bd09767e6b23",
       "version_major": 2,
       "version_minor": 0
      },
      "text/plain": [
       "BokehModel(combine_events=True, render_bundle={'docs_json': {'8cbc2261-6e60-45b2-9791-3f2deac4c827': {'version…"
      ]
     },
     "execution_count": 58,
     "metadata": {},
     "output_type": "execute_result"
    }
   ],
   "source": [
    "symbol = 'BTCUSDT'\n",
    "df = fetch_historical_data(symbol=symbol)\n",
    "df_filtered = filter_outliers_percentiles(df, 'High')\n",
    "\n",
    "df_widget_1 = pn.widgets.DataFrame(df, name='DataFrame')\n",
    "df_widget_2 = pn.widgets.DataFrame(df_filtered, name='Filtered DataFrame')\n",
    "\n",
    "pn.Row( df_widget_1, df_widget_2).servable()"
   ]
  },
  {
   "cell_type": "markdown",
   "id": "77e323f7-bc38-4a7f-aff1-44a93708fa51",
   "metadata": {},
   "source": [
    "### Calculate All-Time-High"
   ]
  },
  {
   "cell_type": "markdown",
   "id": "241198a6-5161-43e9-8c14-6a933ff456a7",
   "metadata": {},
   "source": [
    "The `calculate_ath` function filters the data for the **highest High Price** for a `symbol`.\n",
    "\n",
    "**Note:** \\\n",
    "This value is equivalent to the **All-Time-High** if `Start Time` and `End Time` parameters of the `fetch_historical_data` function are set at `None`. \n",
    "\n",
    "Only Binance data is used here, so it can vary from the general market All-Time-High for a symbol.\n",
    "\n",
    "If the value is obvioulsly wrong (like BTC over 100k when everywhere else is 70k), the `filter_outliers_percentage` function can be used to remove such values from the dataframe.\n",
    "\n"
   ]
  },
  {
   "cell_type": "code",
   "execution_count": 59,
   "id": "1842b5a6-e848-469b-8b6d-5aadb2b119ee",
   "metadata": {},
   "outputs": [],
   "source": [
    "def calculate_ath(symbol):\n",
    "    df = fetch_historical_data(symbol)\n",
    "    df_filtered_percentiles_high = filter_outliers_percentiles(df, 'High')\n",
    "    ath = df_filtered_percentiles_high['High'].max()\n",
    "    return ath"
   ]
  },
  {
   "cell_type": "code",
   "execution_count": 60,
   "id": "543d0e34-d7fe-4a4e-afce-540042cfb2e9",
   "metadata": {},
   "outputs": [
    {
     "name": "stdout",
     "output_type": "stream",
     "text": [
      "Calculated BTC ATH: $ 110797.38\n"
     ]
    }
   ],
   "source": [
    "# Example usage\n",
    "btc_ath = calculate_ath('BTCUSDT')\n",
    "print(f\"Calculated BTC ATH: $ {btc_ath}\")"
   ]
  },
  {
   "cell_type": "markdown",
   "id": "1c166e25-81cc-4216-bc3f-ec2dec669eef",
   "metadata": {},
   "source": [
    "### Calculate Trendline (Linear Regression)"
   ]
  },
  {
   "cell_type": "code",
   "execution_count": 61,
   "id": "d6dd9477-25ba-4b46-917e-f1c90b23f7cd",
   "metadata": {},
   "outputs": [],
   "source": [
    "# def calculate_trendline(df):\n",
    "#     # Prepare data for regression\n",
    "#     df = df[['Date', 'Close']].dropna()\n",
    "#     df['Date_Ordinal'] = df['Date'].apply(lambda x: x.toordinal())  # Convert date to ordinal for regression\n",
    "    \n",
    "#     # Linear regression using numpy's polyfit\n",
    "#     X = df['Date_Ordinal'].values\n",
    "#     y = df['Close'].values\n",
    "    \n",
    "#     # Perform linear regression (1-degree polynomial)\n",
    "#     slope, intercept = np.polyfit(X, y, 1)\n",
    "    \n",
    "#     # Calculate trendline values\n",
    "#     df['Trendline'] = slope * X + intercept\n",
    "    \n",
    "#     return df, (slope, intercept)"
   ]
  },
  {
   "cell_type": "code",
   "execution_count": 62,
   "id": "f9ced16b-6f88-4491-9502-3889994a304a",
   "metadata": {},
   "outputs": [],
   "source": [
    "# # Example usage with a sample dataframe:\n",
    "# data = {'Date': pd.date_range(start='2023-01-01', periods=100),\n",
    "#         'Close': np.random.rand(100) * 100}\n",
    "\n",
    "# df = pd.DataFrame(data)\n",
    "# df_with_trendline, model = calculate_trendline(df)\n",
    "\n",
    "# print(df_with_trendline.head())\n",
    "# print(\"Model slope and intercept:\", model)"
   ]
  },
  {
   "cell_type": "markdown",
   "id": "c51e93c6-618e-4797-bb96-a232227e28a0",
   "metadata": {},
   "source": [
    "### Fetch, Save & Merge Price Data to CSV Files"
   ]
  },
  {
   "cell_type": "markdown",
   "id": "b96dbc85-90d1-4286-b623-31d32a6a3678",
   "metadata": {},
   "source": [
    "The `fetch_and_save_all_time_data` function is designed to **fetch historical data for multiple cryptocurrency symbols** and **save the data into CSV files**. \n",
    "\n",
    "**Function Purpose** \n",
    "- Retrieve historical data for a list of cryptocurrency symbols. \n",
    "- Save the data to a CSV file for each cryptocurrency symbol (**BTCUSDT.csv**, etc.). \n",
    "- Combine all retrieved data into a single Pandas DataFrame. \n",
    "- Save the combined DataFrame to a CSV file (**combined_data.csv**)."
   ]
  },
  {
   "cell_type": "code",
   "execution_count": 63,
   "id": "ce364de5-c914-4160-928f-545aa1e70615",
   "metadata": {},
   "outputs": [],
   "source": [
    "def fetch_and_save_all_time_data(symbols, output_dir='data', final_csv_path='combined_data.csv'):\n",
    "    \"\"\"Fetch and save all-time data for a list of symbols, then merge the files into one CSV.\"\"\"\n",
    "\n",
    "    # Create Output Directory for CSVs\n",
    "    if not os.path.exists(output_dir):\n",
    "        os.makedirs(output_dir)\n",
    "\n",
    "    # Fetch and save data for each symbol\n",
    "    for symbol in symbols:\n",
    "        # Call function to fetch data from Binance API\n",
    "        df = fetch_historical_data(symbol=symbol)\n",
    "        if df is not None:\n",
    "            # Generate a file path for each symbol's data\n",
    "            file_path = os.path.join(output_dir, f'{symbol}.csv')\n",
    "            # Save to CSV-File\n",
    "            df.to_csv(file_path, index=False)\n",
    "            # Print Success Message (Debug)\n",
    "            print(f\"Data for {symbol} saved to {file_path}\")\n",
    "        else:\n",
    "            # Print Error Message (Debug)\n",
    "            print(f\"No data available for {symbol}\")\n",
    "\n",
    "    # List all CSV files in the output directory\n",
    "    csv_files = [os.path.join(output_dir, f) for f in os.listdir(output_dir) if f.endswith('.csv')]\n",
    "\n",
    "    # Combine all CSV files into a single DataFrame\n",
    "    if csv_files:\n",
    "        # Combine dataframes\n",
    "        combined_df = pd.concat((pd.read_csv(file) for file in csv_files), ignore_index=True)\n",
    "        # Save combined dataframe\n",
    "        combined_df.to_csv(final_csv_path, index=False)\n",
    "        # Print Success Message (Debug)\n",
    "        print(f\"All data combined and saved to {final_csv_path}\")\n",
    "    else:\n",
    "        # Print Error Message (Debug)\n",
    "        print(\"No CSV files found to combine.\")\n",
    "\n"
   ]
  },
  {
   "cell_type": "markdown",
   "id": "bb6475ec",
   "metadata": {},
   "source": [
    "##### Test and Debug"
   ]
  },
  {
   "cell_type": "code",
   "execution_count": 64,
   "id": "970f846e",
   "metadata": {},
   "outputs": [
    {
     "name": "stdout",
     "output_type": "stream",
     "text": [
      "Data for BTCUSDT saved to data/BTCUSDT.csv\n",
      "Data for ETHUSDT saved to data/ETHUSDT.csv\n",
      "Data for BNBUSDT saved to data/BNBUSDT.csv\n",
      "All data combined and saved to combined_data.csv\n"
     ]
    }
   ],
   "source": [
    "# Example usage:\n",
    "fetch_and_save_all_time_data(symbols)"
   ]
  },
  {
   "cell_type": "markdown",
   "id": "43d54d8e-7f71-4369-bba0-db376b58ce78",
   "metadata": {},
   "source": [
    "##### Function Parameters"
   ]
  },
  {
   "cell_type": "markdown",
   "id": "8a4a47a7-7d0b-4abf-b94e-ff074f2266f4",
   "metadata": {},
   "source": [
    "- `output_dir='data'`: Output directory for all-time price data for each Symbol.\n",
    "- `final_csv_path='combined_data.csv'`: Merged data for all symbols fetched."
   ]
  },
  {
   "cell_type": "markdown",
   "id": "2ad602be-c0fb-463e-91be-17db87e39b29",
   "metadata": {},
   "source": [
    "### Load Combined data from CSV"
   ]
  },
  {
   "cell_type": "markdown",
   "id": "df5d75aa-c272-476a-8fc4-8da0b6ff2197",
   "metadata": {},
   "source": [
    "The `load_combined_data_from_csv` is designed to **load the merged data from the combined CSV-File** and **return a DataFrame** for futher analysis."
   ]
  },
  {
   "cell_type": "code",
   "execution_count": 65,
   "id": "daa307ab-32e7-46c7-bd89-b2ef62d2e3b1",
   "metadata": {},
   "outputs": [],
   "source": [
    "# Load All-Time Data from CSV\n",
    "\n",
    "def load_combined_data_from_csv(final_csv_path='combined_data.csv'):\n",
    "    \"\"\"Load all-time data from a CSV file.\"\"\"\n",
    "    if os.path.exists(final_csv_path):\n",
    "        df = pd.read_csv(final_csv_path)\n",
    "        # Verify SMA and EMA columns\n",
    "        required_columns = ['SMA_50', 'SMA_200', 'EMA_50', 'EMA_200']\n",
    "        for col in required_columns:\n",
    "            if col not in df.columns:\n",
    "                print(f\"Column {col} not found in {symbol} data. Recalculating...\")\n",
    "                df[col] = None  # Placeholder if recalculating is needed\n",
    "        return df\n",
    "    else:\n",
    "        print(f\"{final_csv_path} does not exist.\")\n",
    "        return None"
   ]
  },
  {
   "cell_type": "markdown",
   "id": "d22000a9-f218-48d1-bd09-22500293e957",
   "metadata": {},
   "source": [
    "#### Example Usage & Debug"
   ]
  },
  {
   "cell_type": "code",
   "execution_count": 66,
   "id": "0a1d9efb-70fa-4664-883c-dfa68f7ee5f6",
   "metadata": {},
   "outputs": [
    {
     "name": "stdout",
     "output_type": "stream",
     "text": [
      "Data for BTCUSDT saved to data/BTCUSDT.csv\n",
      "Data for ETHUSDT saved to data/ETHUSDT.csv\n",
      "Data for BNBUSDT saved to data/BNBUSDT.csv\n",
      "All data combined and saved to combined_data.csv\n"
     ]
    }
   ],
   "source": [
    "# Example usage:\n",
    "fetch_and_save_all_time_data(symbols)\n",
    "combined_df = load_combined_data_from_csv()"
   ]
  },
  {
   "cell_type": "code",
   "execution_count": 70,
   "id": "fb515b1d-67ce-4647-9a54-1d325088b825",
   "metadata": {},
   "outputs": [
    {
     "name": "stdout",
     "output_type": "stream",
     "text": [
      "Data preview:       Open     High      Low    Close        Volume  Number of Trades  \\\n",
      "0  1508.18  1518.42  1447.52  1491.06  7.561367e+05         1015752.0   \n",
      "1  1491.06  1511.00  1424.00  1426.76  5.448464e+05          756843.0   \n",
      "2  1426.76  1559.99  1422.08  1551.80  8.262521e+05         1099487.0   \n",
      "3  1551.79  1606.13  1473.61  1524.59  1.003075e+06         1292499.0   \n",
      "4  1524.59  1619.78  1524.59  1554.10  9.492277e+05         1471691.0   \n",
      "\n",
      "         Date Symbol  SMA_50  SMA_200       EMA_50      EMA_200  \n",
      "0  2022-08-27    ETH     NaN      NaN  1491.060000  1491.060000  \n",
      "1  2022-08-28    ETH     NaN      NaN  1488.538431  1490.420199  \n",
      "2  2022-08-29    ETH     NaN      NaN  1491.019277  1491.030943  \n",
      "3  2022-08-30    ETH     NaN      NaN  1492.335776  1491.364864  \n",
      "4  2022-08-31    ETH     NaN      NaN  1494.757903  1491.989094  \n"
     ]
    }
   ],
   "source": [
    "# Debug\n",
    "if combined_df is not None:\n",
    "    print(f\"Data preview: {combined_df.head()}\") # Check the data being passed\n",
    "else:\n",
    "    print(\"No data loaded from CSV.\")"
   ]
  },
  {
   "cell_type": "markdown",
   "id": "e5626bd1-93f9-4c45-9805-714ecdd93c60",
   "metadata": {},
   "source": [
    "### Read CSV Data (for Debugging)"
   ]
  },
  {
   "cell_type": "markdown",
   "id": "a58a6b25-e16b-4661-95ba-2b428e83aaca",
   "metadata": {},
   "source": [
    "The `get_csv_data` is a more general function, that can be modified to **read data from a specific CSV-File**."
   ]
  },
  {
   "cell_type": "code",
   "execution_count": 71,
   "id": "17ea66f0-676f-41d0-b7d5-1feeed92a68e",
   "metadata": {},
   "outputs": [
    {
     "data": {
      "text/html": [
       "<div>\n",
       "<style scoped>\n",
       "    .dataframe tbody tr th:only-of-type {\n",
       "        vertical-align: middle;\n",
       "    }\n",
       "\n",
       "    .dataframe tbody tr th {\n",
       "        vertical-align: top;\n",
       "    }\n",
       "\n",
       "    .dataframe thead th {\n",
       "        text-align: right;\n",
       "    }\n",
       "</style>\n",
       "<table border=\"1\" class=\"dataframe\">\n",
       "  <thead>\n",
       "    <tr style=\"text-align: right;\">\n",
       "      <th></th>\n",
       "      <th>Open</th>\n",
       "      <th>High</th>\n",
       "      <th>Low</th>\n",
       "      <th>Close</th>\n",
       "      <th>Volume</th>\n",
       "      <th>Number of Trades</th>\n",
       "      <th>Symbol</th>\n",
       "      <th>SMA_50</th>\n",
       "      <th>SMA_200</th>\n",
       "      <th>EMA_50</th>\n",
       "      <th>EMA_200</th>\n",
       "    </tr>\n",
       "    <tr>\n",
       "      <th>Date</th>\n",
       "      <th></th>\n",
       "      <th></th>\n",
       "      <th></th>\n",
       "      <th></th>\n",
       "      <th></th>\n",
       "      <th></th>\n",
       "      <th></th>\n",
       "      <th></th>\n",
       "      <th></th>\n",
       "      <th></th>\n",
       "      <th></th>\n",
       "    </tr>\n",
       "  </thead>\n",
       "  <tbody>\n",
       "    <tr>\n",
       "      <th>NaT</th>\n",
       "      <td>NaN</td>\n",
       "      <td>NaN</td>\n",
       "      <td>NaN</td>\n",
       "      <td>NaN</td>\n",
       "      <td>NaN</td>\n",
       "      <td>NaN</td>\n",
       "      <td>BNBETH</td>\n",
       "      <td>NaN</td>\n",
       "      <td>NaN</td>\n",
       "      <td>NaN</td>\n",
       "      <td>NaN</td>\n",
       "    </tr>\n",
       "    <tr>\n",
       "      <th>NaT</th>\n",
       "      <td>NaN</td>\n",
       "      <td>NaN</td>\n",
       "      <td>NaN</td>\n",
       "      <td>NaN</td>\n",
       "      <td>NaN</td>\n",
       "      <td>NaN</td>\n",
       "      <td>ALTBNB</td>\n",
       "      <td>NaN</td>\n",
       "      <td>NaN</td>\n",
       "      <td>NaN</td>\n",
       "      <td>NaN</td>\n",
       "    </tr>\n",
       "    <tr>\n",
       "      <th>NaT</th>\n",
       "      <td>NaN</td>\n",
       "      <td>NaN</td>\n",
       "      <td>NaN</td>\n",
       "      <td>NaN</td>\n",
       "      <td>NaN</td>\n",
       "      <td>NaN</td>\n",
       "      <td>SUIBNB</td>\n",
       "      <td>NaN</td>\n",
       "      <td>NaN</td>\n",
       "      <td>NaN</td>\n",
       "      <td>NaN</td>\n",
       "    </tr>\n",
       "    <tr>\n",
       "      <th>NaT</th>\n",
       "      <td>NaN</td>\n",
       "      <td>NaN</td>\n",
       "      <td>NaN</td>\n",
       "      <td>NaN</td>\n",
       "      <td>NaN</td>\n",
       "      <td>NaN</td>\n",
       "      <td>XRPBNB</td>\n",
       "      <td>NaN</td>\n",
       "      <td>NaN</td>\n",
       "      <td>NaN</td>\n",
       "      <td>NaN</td>\n",
       "    </tr>\n",
       "    <tr>\n",
       "      <th>NaT</th>\n",
       "      <td>NaN</td>\n",
       "      <td>NaN</td>\n",
       "      <td>NaN</td>\n",
       "      <td>NaN</td>\n",
       "      <td>NaN</td>\n",
       "      <td>NaN</td>\n",
       "      <td>CTKBNB</td>\n",
       "      <td>NaN</td>\n",
       "      <td>NaN</td>\n",
       "      <td>NaN</td>\n",
       "      <td>NaN</td>\n",
       "    </tr>\n",
       "  </tbody>\n",
       "</table>\n",
       "</div>"
      ],
      "text/plain": [
       "      Open  High  Low  Close  Volume  Number of Trades  Symbol  SMA_50  \\\n",
       "Date                                                                     \n",
       "NaT    NaN   NaN  NaN    NaN     NaN               NaN  BNBETH     NaN   \n",
       "NaT    NaN   NaN  NaN    NaN     NaN               NaN  ALTBNB     NaN   \n",
       "NaT    NaN   NaN  NaN    NaN     NaN               NaN  SUIBNB     NaN   \n",
       "NaT    NaN   NaN  NaN    NaN     NaN               NaN  XRPBNB     NaN   \n",
       "NaT    NaN   NaN  NaN    NaN     NaN               NaN  CTKBNB     NaN   \n",
       "\n",
       "      SMA_200  EMA_50  EMA_200  \n",
       "Date                            \n",
       "NaT       NaN     NaN      NaN  \n",
       "NaT       NaN     NaN      NaN  \n",
       "NaT       NaN     NaN      NaN  \n",
       "NaT       NaN     NaN      NaN  \n",
       "NaT       NaN     NaN      NaN  "
      ]
     },
     "execution_count": 71,
     "metadata": {},
     "output_type": "execute_result"
    }
   ],
   "source": [
    "@pn.cache\n",
    "def get_csv_data():\n",
    "  return pd.read_csv('combined_data.csv', parse_dates=[\"Date\"], index_col=\"Date\")\n",
    "\n",
    "datacheck = get_csv_data()\n",
    "\n",
    "datacheck.tail()"
   ]
  },
  {
   "cell_type": "markdown",
   "id": "74ae0f16-af94-4333-86b1-0a8a58db47aa",
   "metadata": {},
   "source": [
    "### Load Symbol Data from CSVs"
   ]
  },
  {
   "cell_type": "markdown",
   "id": "ed78125f-010c-4f13-8600-0c3d04a8c252",
   "metadata": {},
   "source": [
    "The `load_symbol_data` function is designed to **read the symbol CSV-Files** and **return DataFrames for each symbol**."
   ]
  },
  {
   "cell_type": "code",
   "execution_count": 72,
   "id": "0221ada9-03fc-4bf7-997d-83efe59e0f94",
   "metadata": {},
   "outputs": [],
   "source": [
    "def load_symbol_data(symbols, directory='data'):\n",
    "    dataframes = {}\n",
    "\n",
    "    for symbol in symbols:\n",
    "        # Construct the file path for the CSV file\n",
    "        file_path = os.path.join(directory, f'{symbol}.csv')\n",
    "\n",
    "        try:\n",
    "            # Try to load the CSV if the file exists\n",
    "            if os.path.exists(file_path):\n",
    "                df = pd.read_csv(file_path)\n",
    "\n",
    "                # Remove 'USDT' from symbol to create a key for the dataframe\n",
    "                df_name = symbol.replace('USDT', '')\n",
    "\n",
    "                # Store the DataFrame in the dictionary\n",
    "                dataframes[df_name] = df\n",
    "            else:\n",
    "                # Inform the user if the file doesn't exist\n",
    "                print(f\"File {file_path} does not exist.\")\n",
    "        \n",
    "        except Exception as e:\n",
    "            print(f\"An error occurred while loading {file_path}: {e}\")\n",
    "    \n",
    "    return dataframes"
   ]
  },
  {
   "cell_type": "markdown",
   "id": "17cf5e28-0114-41d2-953a-a4d8c3426687",
   "metadata": {},
   "source": [
    "#### Example Usage & Debug"
   ]
  },
  {
   "cell_type": "code",
   "execution_count": 73,
   "id": "c34630de-b541-4de0-9a02-0dbf2a9feaf2",
   "metadata": {},
   "outputs": [],
   "source": [
    "# Example usage:\n",
    "symbols = ['BTCUSDT', 'ETHUSDT', 'BNBUSDT']  # List of symbols\n",
    "dataframes = load_symbol_data(symbols)"
   ]
  },
  {
   "cell_type": "code",
   "execution_count": 74,
   "id": "9c062669-1961-433d-813a-3428d2b2c58d",
   "metadata": {},
   "outputs": [],
   "source": [
    "# Accessing a specific DataFrame\n",
    "df_BTC = dataframes.get('BTC')  # Example of accessing the DataFrame for BTC"
   ]
  },
  {
   "cell_type": "code",
   "execution_count": 75,
   "id": "880b811d-7576-47f3-8896-a518b64d2c08",
   "metadata": {},
   "outputs": [
    {
     "data": {
      "application/vnd.jupyter.widget-view+json": {
       "model_id": "aae605a38b834beabba945113af42ae6",
       "version_major": 2,
       "version_minor": 0
      },
      "text/plain": [
       "BokehModel(combine_events=True, render_bundle={'docs_json': {'acea22ae-a43c-4ffa-9b57-a08c5350a965': {'version…"
      ]
     },
     "execution_count": 75,
     "metadata": {},
     "output_type": "execute_result"
    }
   ],
   "source": [
    "# Debug & Display\n",
    "df_widget_BTC = pn.widgets.DataFrame(df_BTC, name='DataFrame')\n",
    "df_widget_BTC"
   ]
  },
  {
   "cell_type": "markdown",
   "id": "51fc191f-583a-4df7-81fd-92937f5bab5a",
   "metadata": {},
   "source": [
    "### Fetch Current Price from Binance API"
   ]
  },
  {
   "cell_type": "markdown",
   "id": "3f7e815b-e81b-412b-8c93-70afda570d88",
   "metadata": {},
   "source": [
    "Generic function to fetch the current price for a currency from Binance."
   ]
  },
  {
   "cell_type": "code",
   "execution_count": 76,
   "id": "d74d65f2-ba82-41ef-8ff6-7fc9f4ad09b0",
   "metadata": {},
   "outputs": [],
   "source": [
    "# Fetch Current Price from Binance\n",
    "\n",
    "def fetch_current_price(symbol):\n",
    "    \"\"\"Fetch the current price for a given symbol from Binance API.\"\"\"\n",
    "    url = BINANCE_API_URL_CURRENT_PRICE + symbol\n",
    "    response = requests.get(url)\n",
    "    if response.status_code == 200:\n",
    "        data = response.json()\n",
    "        return float(data.get('price', 0))\n",
    "    else:\n",
    "        print(f\"Error fetching current price for {symbol}: {response.status_code}\")\n",
    "        return None"
   ]
  },
  {
   "cell_type": "markdown",
   "id": "e8e53f30-6271-4073-ab56-e3e229b0c5d3",
   "metadata": {},
   "source": [
    "### Convert Colors for Plotly"
   ]
  },
  {
   "cell_type": "markdown",
   "id": "549ff890-0f60-4191-94ea-e1a50e890af8",
   "metadata": {},
   "source": [
    "Function to convert named colors (matplotlib) to RGBA for Plotly."
   ]
  },
  {
   "cell_type": "code",
   "execution_count": 77,
   "id": "17dc25e5-fbd1-45b0-9a72-2cafb1894e85",
   "metadata": {},
   "outputs": [],
   "source": [
    "# Convert Colors for Plotly\n",
    "\n",
    "def convert_color(color_name, opacity=0.8):\n",
    "    \"\"\"Convert a color name to rgba format.\"\"\"\n",
    "    rgba = mcolors.to_rgba(color_name, opacity)\n",
    "    return f'rgba({int(rgba[0]*255)}, {int(rgba[1]*255)}, {int(rgba[2]*255)}, {rgba[3]})'"
   ]
  },
  {
   "cell_type": "markdown",
   "id": "da3f744b-135b-4634-be87-4d20c31e4c1f",
   "metadata": {},
   "source": [
    "## V. Main Work Flow"
   ]
  },
  {
   "cell_type": "markdown",
   "id": "c981f6d2-5c42-4192-b053-a47eb6b350ca",
   "metadata": {},
   "source": [
    "### Global Variables"
   ]
  },
  {
   "cell_type": "code",
   "execution_count": 78,
   "id": "57c75cce-b6ff-488a-a03d-6511e1822a1e",
   "metadata": {},
   "outputs": [],
   "source": [
    "# Global variables to store data processed in main\n",
    "\n",
    "combined_df = None\n",
    "ath_dict = {}\n",
    "current_price_dict = {}\n",
    "percent_change_ath_dict = {}"
   ]
  },
  {
   "cell_type": "markdown",
   "id": "89d41d79-7546-4e9d-84b5-1976ea022ef0",
   "metadata": {},
   "source": [
    "### Main Function"
   ]
  },
  {
   "cell_type": "code",
   "execution_count": 79,
   "id": "61c46018-cb73-4cb1-8301-d69fc510a001",
   "metadata": {},
   "outputs": [],
   "source": [
    "# Main Function\n",
    "\n",
    "def main():\n",
    "    global combined_df, ath_dict, current_price_dict \n",
    "    \n",
    "    symbols = ['BTCUSDT', 'ETHUSDT', 'BNBUSDT']\n",
    "    \n",
    "    # Fetch and save data\n",
    "    df = fetch_and_save_all_time_data(symbols)\n",
    "    combined_df = load_combined_data_from_csv()\n",
    "    \n",
    "    if combined_df is not None:\n",
    "        ath_dict = {}\n",
    "        current_price_dict = {}\n",
    "        percent_change_ath_dict = {}\n",
    "\n",
    "        for symbol in symbols:\n",
    "            symbol_name = symbol[:-4]\n",
    "            df_symbol = combined_df[combined_df['Symbol'] == symbol_name]\n",
    "\n",
    "            # Calculate ATH\n",
    "            ath = calculate_ath(symbol)\n",
    "            ath_dict[symbol_name] = ath\n",
    "\n",
    "            # Fetch current price\n",
    "            current_price = round(fetch_current_price(symbol), 2)\n",
    "            current_price_dict[symbol_name] = current_price\n",
    "\n",
    "            # Calculate % change from ATH\n",
    "            if current_price is not None:\n",
    "                percent_change_ath_dict[symbol_name] = round(((current_price - ath) / ath) * 100, 2)\n",
    "            else:\n",
    "                percent_change_ath_dict[symbol_name] = None\n",
    "\n",
    "        # Debug: Print out the contents of the dictionaries\n",
    "        print(\"\\nATH Dictionary:\")\n",
    "        for k, v in ath_dict.items():\n",
    "            print(f\"{k}: {v}\")\n",
    "\n",
    "        print(\"\\nCurrent Price Dictionary:\")\n",
    "        for k, v in current_price_dict.items():\n",
    "            print(f\"{k}: {v}\")\n",
    "\n",
    "        print(\"\\nPercent Change from ATH Dictionary:\")\n",
    "        for k, v in percent_change_ath_dict.items():\n",
    "            print(f\"{k}: {v}\")"
   ]
  },
  {
   "cell_type": "markdown",
   "id": "e9c297ce-ed91-43af-8433-b705572c01dc",
   "metadata": {},
   "source": [
    "### Run Main"
   ]
  },
  {
   "cell_type": "code",
   "execution_count": 80,
   "id": "8a455539-8849-442d-bf41-e0862be94cdb",
   "metadata": {},
   "outputs": [
    {
     "name": "stdout",
     "output_type": "stream",
     "text": [
      "Data for BTCUSDT saved to data/BTCUSDT.csv\n",
      "Data for ETHUSDT saved to data/ETHUSDT.csv\n",
      "Data for BNBUSDT saved to data/BNBUSDT.csv\n",
      "All data combined and saved to combined_data.csv\n",
      "\n",
      "ATH Dictionary:\n",
      "BTC: 110797.38\n",
      "ETH: 4093.92\n",
      "BNB: 761.0\n",
      "\n",
      "Current Price Dictionary:\n",
      "BTC: 111162.23\n",
      "ETH: 2633.28\n",
      "BNB: 680.5\n",
      "\n",
      "Percent Change from ATH Dictionary:\n",
      "BTC: 0.33\n",
      "ETH: -35.68\n",
      "BNB: -10.58\n"
     ]
    }
   ],
   "source": [
    "# Run Main\n",
    "\n",
    "if __name__ == \"__main__\":\n",
    "     main()"
   ]
  },
  {
   "cell_type": "markdown",
   "id": "394e09df-b6fe-4171-8bd8-cb140778c100",
   "metadata": {},
   "source": [
    "## VI. Figures"
   ]
  },
  {
   "cell_type": "markdown",
   "id": "44ad785c-ac1d-4126-90f6-6ee1d5e1482f",
   "metadata": {},
   "source": [
    "#### Resources for Styling\n",
    "\n",
    "https://panel.holoviz.org/reference/panes/Plotly.html\n",
    "\n",
    "https://panel.holoviz.org/how_to/styling/plotly.html\n",
    "\n"
   ]
  },
  {
   "cell_type": "markdown",
   "id": "9ec99ff4-10c5-45d0-b8e7-46472a5fddfe",
   "metadata": {},
   "source": [
    "### Current Price vs. All-Time-High for All Symbols"
   ]
  },
  {
   "cell_type": "code",
   "execution_count": 81,
   "id": "312a4e47-3054-421f-8dc3-ab2d72162d1a",
   "metadata": {},
   "outputs": [],
   "source": [
    "# Current Price vs. All-Time-High for All Symbols\n",
    "\n",
    "def plot_current_vs_ath(symbols, df, ath_dict, current_price_dict, colors_a, colors_b):\n",
    "    \"\"\"Plot the current price vs All-Time High.\"\"\"\n",
    "    fig = go.Figure()\n",
    "\n",
    "    for symbol in symbols:\n",
    "        symbol_name = symbol[:-4]\n",
    "        df_symbol = df[df['Symbol'] == symbol_name]\n",
    "        \n",
    "        fig.add_trace(go.Bar(\n",
    "            name=f'{symbol_name} All-Time-High: $ {ath_dict[symbol_name]:.2f}', # show Price in Legend\n",
    "            y=[symbol_name],\n",
    "            x=[ath_dict[symbol_name]],\n",
    "            marker_color=convert_color(colors_b[symbol_name], 0.6),\n",
    "            orientation='h',\n",
    "            hovertemplate=f'{symbol_name}<br>All-Time-High: $ %{{x:.2f}}<extra></extra>'\n",
    "        ))\n",
    "\n",
    "        fig.add_trace(go.Bar(\n",
    "            name=f'{symbol_name} Current Price: $ {current_price_dict[symbol_name]:.2f}',\n",
    "            y=[symbol_name],\n",
    "            x=[current_price_dict[symbol_name]],\n",
    "            marker_color=convert_color(colors_a[symbol_name], 0.8),\n",
    "            orientation='h',\n",
    "            hovertemplate=f'{symbol_name}<br>Latest Price: $ %{{x:.2f}}<extra></extra>'\n",
    "        ))\n",
    "\n",
    "    fig.update_layout(\n",
    "        title_text=\"Cryptocurrency Market Overview: Current Price vs. All-Time High\",\n",
    "        xaxis_title=\"Price (USD)\",\n",
    "        barmode='overlay',\n",
    "        xaxis_type='log',\n",
    "        template='plotly_white'\n",
    "    )\n",
    "\n",
    "    return fig"
   ]
  },
  {
   "cell_type": "markdown",
   "id": "99914314-8795-44ec-9213-eb3706f50f9f",
   "metadata": {},
   "source": [
    "#### Test Figure Creation & Display"
   ]
  },
  {
   "cell_type": "code",
   "execution_count": 99,
   "id": "e9eac8a4-721b-4d74-8a63-4e168697a1f5",
   "metadata": {},
   "outputs": [],
   "source": [
    "# Test Figure Creation \n",
    "\n",
    "fig_ath = plot_current_vs_ath(symbols, combined_df, ath_dict, current_price_dict, colors_a, colors_b)"
   ]
  },
  {
   "cell_type": "code",
   "execution_count": 100,
   "id": "b988bc8c-ea41-462e-954b-fc0a870b2c67",
   "metadata": {},
   "outputs": [
    {
     "name": "stdout",
     "output_type": "stream",
     "text": [
      "Launching server at http://localhost:38829\n"
     ]
    },
    {
     "data": {
      "text/plain": [
       "<panel.io.server.Server at 0x7f3a8ceb2ed0>"
      ]
     },
     "execution_count": 100,
     "metadata": {},
     "output_type": "execute_result"
    },
    {
     "name": "stderr",
     "output_type": "stream",
     "text": [
      "QSocketNotifier: Can only be used with threads started with QThread\n"
     ]
    },
    {
     "name": "stdout",
     "output_type": "stream",
     "text": [
      "Wird in einer aktuellen Browsersitzung geöffnet.\n"
     ]
    }
   ],
   "source": [
    "# Test Display of Figure\n",
    "\n",
    "plotly_fig1 = pn.pane.Plotly(fig_ath)\n",
    "\n",
    "plotly_fig1.show()"
   ]
  },
  {
   "cell_type": "markdown",
   "id": "c743b5c5-32d1-4555-a06a-8a0e68cdc46c",
   "metadata": {},
   "source": [
    "### Stacked Price Curves for All Symbols"
   ]
  },
  {
   "cell_type": "code",
   "execution_count": 101,
   "id": "fc728b4b-051a-4f48-87fd-a4a05e590c0a",
   "metadata": {},
   "outputs": [],
   "source": [
    "# Stacked Price Curves for All Symbols\n",
    "\n",
    "def plot_price_comparison(symbols, df, colors_a, colors_b):\n",
    "    \"\"\"Plot the price curves over time for the given symbols.\"\"\"\n",
    "    fig = go.Figure()\n",
    "\n",
    "    for symbol in symbols:\n",
    "        symbol_name = symbol[:-4]\n",
    "        df_symbol = df[df['Symbol'] == symbol_name]\n",
    "\n",
    "        fig.add_trace(go.Scatter(\n",
    "            x=df_symbol['Date'],\n",
    "            y=df_symbol['Close'],\n",
    "            mode='lines',\n",
    "            name=f'{symbol_name} Close',\n",
    "            line=dict(color=convert_color(colors_a[symbol_name], 0.8)),\n",
    "            fill='tozeroy',\n",
    "            fillcolor=convert_color(colors_b[symbol_name], 0.6),\n",
    "            hovertemplate=f'{symbol_name}<br>Date: %{{x}}<br>Close: $ %{{y:.2f}}<extra></extra>'\n",
    "        ))\n",
    "\n",
    "    fig.update_layout(\n",
    "        title_text=\"Cryptocurrency Prices Over Time\",\n",
    "        xaxis_title=\"Date\",\n",
    "        yaxis_title=\"Price (USD)\",\n",
    "        yaxis_type=\"log\",\n",
    "        xaxis_rangeslider_visible=True,\n",
    "        template='plotly_white',\n",
    "        height=700,\n",
    "    )\n",
    "\n",
    "    return fig"
   ]
  },
  {
   "cell_type": "markdown",
   "id": "461494bb-3ef0-4f8f-9572-554d9a78a0d4",
   "metadata": {},
   "source": [
    "#### Test Figure Creation & Display"
   ]
  },
  {
   "cell_type": "code",
   "execution_count": 102,
   "id": "fa3c0ba3-bcd6-4ef9-af0b-4a1502abc2f3",
   "metadata": {},
   "outputs": [],
   "source": [
    "# Test Figure Creation\n",
    "\n",
    "fig_stacked = plot_price_comparison(symbols, combined_df, colors_a, colors_b)"
   ]
  },
  {
   "cell_type": "code",
   "execution_count": 103,
   "id": "b50378ae-4dee-4b07-b99a-37a31fa8ed7b",
   "metadata": {},
   "outputs": [
    {
     "name": "stdout",
     "output_type": "stream",
     "text": [
      "Launching server at http://localhost:39621\n"
     ]
    },
    {
     "data": {
      "text/plain": [
       "<panel.io.server.Server at 0x7f3a8cec6010>"
      ]
     },
     "execution_count": 103,
     "metadata": {},
     "output_type": "execute_result"
    },
    {
     "name": "stderr",
     "output_type": "stream",
     "text": [
      "QSocketNotifier: Can only be used with threads started with QThread\n"
     ]
    }
   ],
   "source": [
    "# Test Display of Figure\n",
    "\n",
    "plotly_fig2 = pn.pane.Plotly(fig_stacked)\n",
    "\n",
    "plotly_fig2.show()"
   ]
  },
  {
   "cell_type": "markdown",
   "id": "9044ba93-0009-4fc6-a908-dd65c1e93b5c",
   "metadata": {},
   "source": [
    "### Price Over Time"
   ]
  },
  {
   "cell_type": "code",
   "execution_count": 104,
   "id": "809764e2-292e-4deb-913f-3775ceedede9",
   "metadata": {},
   "outputs": [
    {
     "name": "stdout",
     "output_type": "stream",
     "text": [
      "Wird in einer aktuellen Browsersitzung geöffnet.\n"
     ]
    }
   ],
   "source": [
    "# Function to plot a specific symbol from pre-loaded data\n",
    "def plot_price(symbol, df, colors_a, colors_b):\n",
    "    \"\"\"Plot the price curve over time for one given symbol.\"\"\"\n",
    "    \n",
    "    # Check if 'Symbol' column exists\n",
    "    if 'Symbol' not in df.columns:\n",
    "        print(f\"Column 'Symbol' not found in DataFrame for {symbol}.\")\n",
    "        return None\n",
    "    \n",
    "    # Filter data for the selected symbol\n",
    "    df_symbol = df[df['Symbol'] == symbol]\n",
    "\n",
    "    # Ensure symbol name matches dictionary keys (e.g., remove USDT if necessary)\n",
    "    symbol_name = symbol.replace('USDT', '').strip()  # Ensure the symbol is properly formatted\n",
    "    \n",
    "    # Create the plot\n",
    "    fig = go.Figure()\n",
    "\n",
    "    # High-Low Band Plot\n",
    "    fig.add_trace(go.Scatter(\n",
    "        x=df_symbol['Date'],\n",
    "        y=df_symbol['High'],\n",
    "        mode='lines',\n",
    "        name=f'{symbol_name} High',\n",
    "        line=dict(color=colors_b[symbol_name], dash='dot'),\n",
    "        hovertemplate=f'<br> High Price: $ %{{y:.2f}}<extra></extra>',\n",
    "        showlegend=False\n",
    "    ))\n",
    "\n",
    "    fig.add_trace(go.Scatter(\n",
    "        x=df_symbol['Date'],\n",
    "        y=df_symbol['Low'],\n",
    "        mode='lines',\n",
    "        name=f'{symbol_name} Low',\n",
    "        line=dict(color=colors_b[symbol_name], dash='dot'),\n",
    "        fill='tonexty',\n",
    "        fillcolor=convert_color(colors_b[symbol_name], 0.4),\n",
    "        hovertemplate=f'<br> Low Price: $ %{{y:.2f}}<extra></extra>',\n",
    "        showlegend=False\n",
    "    ))\n",
    "\n",
    "    # Close Price Plot\n",
    "    fig.add_trace(go.Scatter(\n",
    "        x=df_symbol['Date'],\n",
    "        y=df_symbol['Close'],\n",
    "        mode='lines',\n",
    "        name=f'{symbol_name} Close',\n",
    "        line=dict(color=colors_a[symbol_name]),\n",
    "        hovertemplate=f'<br> Close Price: $ %{{y:.2f}}<extra></extra>'\n",
    "    ))\n",
    "\n",
    "    # Open Price Plot (hidden)\n",
    "    fig.add_trace(go.Scatter(\n",
    "        x=df_symbol['Date'],\n",
    "        y=df_symbol['Open'],\n",
    "        mode='lines',\n",
    "        name=f'{symbol_name} Open',\n",
    "        line=dict(color=colors_b[symbol_name], dash='dash'),\n",
    "        hovertemplate=f'<br> Open Price: $ %{{y:.2f}}<extra></extra>',\n",
    "        showlegend=True,\n",
    "        visible='legendonly'  # This hides the line but keeps it in the legend\n",
    "    ))\n",
    "\n",
    "    # 50-day SMA Plot\n",
    "    fig.add_trace(go.Scatter(\n",
    "        x=df_symbol['Date'],\n",
    "        y=df_symbol['SMA_50'],\n",
    "        mode='lines',\n",
    "        name=f'{symbol_name} 50-day SMA',\n",
    "        line=dict(color=convert_color(colors_a[symbol_name], 0.4)),\n",
    "        hovertemplate=f'<br> 50-day SMA: $ %{{y:.2f}}<extra></extra>'\n",
    "    ))\n",
    "\n",
    "    # 200-day SMA Plot\n",
    "    fig.add_trace(go.Scatter(\n",
    "        x=df_symbol['Date'],\n",
    "        y=df_symbol['SMA_200'],\n",
    "        mode='lines',\n",
    "        name=f'{symbol_name} 200-day SMA',\n",
    "        line=dict(color=convert_color(colors_a[symbol_name], 0.6), dash='dash'),\n",
    "        hovertemplate=f'<br> 200-day SMA: $ %{{y:.2f}}<extra></extra>'\n",
    "    ))\n",
    "\n",
    "    # 50-day EMA Plot\n",
    "    fig.add_trace(go.Scatter(\n",
    "        x=df_symbol['Date'],\n",
    "        y=df_symbol['EMA_50'],\n",
    "        mode='lines',\n",
    "        name=f'{symbol_name} 50-day EMA',\n",
    "        line=dict(color=convert_color(colors_b[symbol_name], 0.6)),\n",
    "        hovertemplate=f'<br> 50-day EMA: $ %{{y:.2f}}<extra></extra>'\n",
    "    ))\n",
    "\n",
    "    # 200-day EMA Plot\n",
    "    fig.add_trace(go.Scatter(\n",
    "        x=df_symbol['Date'],\n",
    "        y=df_symbol['EMA_200'],\n",
    "        mode='lines',\n",
    "        name=f'{symbol_name} 200-day EMA',\n",
    "        line=dict(color=convert_color(colors_b[symbol_name], 0.8), dash='dash'),\n",
    "        hovertemplate=f'<br> 200-day EMA: $ %{{y:.2f}}<extra></extra>'\n",
    "    ))\n",
    "\n",
    "    fig.update_layout(\n",
    "        title=f'Cryptocurrency Price Over Time for {symbol_name}',\n",
    "        xaxis_title='Date',\n",
    "        yaxis_title='Price (USD)',\n",
    "        yaxis_type='log',\n",
    "        height=800,\n",
    "        template='plotly_white',\n",
    "        xaxis=dict(showgrid=True, showline=True, showticklabels=True, gridcolor='rgb(204, 204, 204)', linecolor='rgb(204, 204, 204)', linewidth=2, ticks='outside'),\n",
    "        yaxis=dict(showgrid=True, showline=True, showticklabels=True, gridcolor='rgb(204, 204, 204)', linecolor='rgb(204, 204, 204)', linewidth=2, ticks='outside'),\n",
    "        hovermode=\"x unified\",\n",
    "        xaxis_rangeslider_visible=True,\n",
    "    )\n",
    "\n",
    "    return fig"
   ]
  },
  {
   "cell_type": "markdown",
   "id": "d3d9ec52-29c3-4949-a4f7-874681f34ad3",
   "metadata": {},
   "source": [
    "#### Test Figure Creation & Display"
   ]
  },
  {
   "cell_type": "code",
   "execution_count": 105,
   "id": "1c53f0af-7f7d-4d4a-b584-618e58384d95",
   "metadata": {},
   "outputs": [
    {
     "name": "stdout",
     "output_type": "stream",
     "text": [
      "Launching server at http://localhost:39547\n"
     ]
    },
    {
     "data": {
      "text/plain": [
       "<panel.io.server.Server at 0x7f3a8ccb9a10>"
      ]
     },
     "execution_count": 105,
     "metadata": {},
     "output_type": "execute_result"
    },
    {
     "name": "stderr",
     "output_type": "stream",
     "text": [
      "QSocketNotifier: Can only be used with threads started with QThread\n"
     ]
    }
   ],
   "source": [
    "# Test Display of Figure\n",
    "symbol = 'BTC'\n",
    "df_BTC = dataframes.get('BTC')  # Example of accessing the DataFrame for BTC\n",
    "df_symbol = df_BTC\n",
    "df_filtered = filter_outliers_percentiles(df_symbol, 'High') # Filter for Outliers if Necessary\n",
    "price_BTC = plot_price(symbol, df_filtered, colors_a, colors_b) # Replace df_BTC with df_filtered and vice versa\n",
    "plotly_fig3 = pn.pane.Plotly(price_BTC)\n",
    "plotly_fig3.show()"
   ]
  },
  {
   "cell_type": "markdown",
   "id": "9bc7698e-6cd3-48d5-8b17-712c7fc33e0b",
   "metadata": {},
   "source": [
    "##### Price Figure ETH"
   ]
  },
  {
   "cell_type": "code",
   "execution_count": 106,
   "id": "593c9e42-c014-4e72-ac52-b1e4cef470b8",
   "metadata": {},
   "outputs": [
    {
     "name": "stdout",
     "output_type": "stream",
     "text": [
      "Wird in einer aktuellen Browsersitzung geöffnet.\n"
     ]
    }
   ],
   "source": [
    "symbol = 'ETH'\n",
    "#dataframes = load_symbol_data(symbols, directory)\n",
    "df_ETH = dataframes.get('ETH')  # Example of accessing the DataFrame for BTC\n",
    "df_symbol = df_ETH\n",
    "price_ETH = plot_price(symbol, df_ETH, colors_a, colors_b)"
   ]
  },
  {
   "cell_type": "markdown",
   "id": "93bd0e41-57f4-4813-a912-41bbd06cb6b4",
   "metadata": {},
   "source": [
    "##### Price Figure BNB"
   ]
  },
  {
   "cell_type": "code",
   "execution_count": 107,
   "id": "6df33c10-0b3b-4165-a912-1e842782563d",
   "metadata": {},
   "outputs": [],
   "source": [
    "symbol = 'BNB'\n",
    "#dataframes = load_symbol_data(symbols, directory)\n",
    "df_BNB = dataframes.get('BNB')  # Example of accessing the DataFrame for BTC\n",
    "df_symbol = df_BNB\n",
    "price_BNB = plot_price(symbol, df_BNB, colors_a, colors_b)"
   ]
  },
  {
   "cell_type": "markdown",
   "id": "df85ce55-62f5-4cdf-87a7-a2c679706504",
   "metadata": {},
   "source": [
    "#### Debug"
   ]
  },
  {
   "cell_type": "code",
   "execution_count": 108,
   "id": "abbc5e6e-bd99-4ceb-9f1f-4c317aaacd29",
   "metadata": {},
   "outputs": [],
   "source": [
    "# Debug\n",
    "\n",
    "# Symbol List\n",
    "#symbols = ['BTCUSDT', 'ETHUSDT']  # Add symbols for the cryptocurrencies you want to load\n",
    "\n",
    "# Load Symbol Data\n",
    "#dataframes = load_symbol_data(symbols)\n",
    "\n",
    "# Check Columns (SMA, EMA present?)\n",
    "#print(combined_df.columns)\n",
    "\n",
    "# Check Symbol Column\n",
    "# print(combined_df['Symbol'].unique())\n",
    "\n",
    "#Pick Symbol and Filter DataFrame\n",
    "#symbol_name = 'BTC'\n",
    "#df_symbol_filtered = combined_df[combined_df['Symbol'] == symbol_name]\n",
    "\n",
    "# Check Filtered Dataframe\n",
    "#print(df_symbol_filtered.head())"
   ]
  },
  {
   "cell_type": "markdown",
   "id": "ffe5a232-d62b-4a43-a76c-9577e3318a00",
   "metadata": {},
   "source": [
    "### Volume Over Time"
   ]
  },
  {
   "cell_type": "code",
   "execution_count": 109,
   "id": "ca886197-f471-4aad-97dd-26a143916e94",
   "metadata": {},
   "outputs": [],
   "source": [
    "def plot_volume(symbol, df, colors_a, colors_b):\n",
    "    \"\"\"Plot the price volume curve over time for one given symbol.\"\"\"\n",
    "    \n",
    "    # Check if 'Symbol' column exists\n",
    "    if 'Symbol' not in df.columns:\n",
    "        print(f\"Column 'Symbol' not found in DataFrame for {symbol}.\")\n",
    "        return None\n",
    "    \n",
    "    # Filter data for the selected symbol\n",
    "    df_symbol = df[df['Symbol'] == symbol]\n",
    "\n",
    "    # Ensure symbol name matches dictionary keys\n",
    "    symbol_name = symbol.replace('USDT', '').strip()\n",
    "    \n",
    "    # Create the plot\n",
    "    fig = go.Figure()\n",
    "\n",
    "    # Add Volume Plot\n",
    "    fig.add_trace(go.Scatter(\n",
    "        x=df_symbol['Date'],\n",
    "        y=df_symbol['Volume'],\n",
    "        mode='lines',\n",
    "        name=f'{symbol_name} Volume',\n",
    "        line=dict(color=convert_color(colors_b[symbol_name], 0.6)),  # Solid line for Volume\n",
    "        fill='tozeroy',  # Fill area under the curve to the x-axis\n",
    "        fillcolor=convert_color(colors_b[symbol_name], 0.6), \n",
    "        hovertemplate=f'{symbol_name}<br>Volume: $ %{{y:.2f}}<extra></extra>'\n",
    "    ))\n",
    "\n",
    "    # Configure Layout\n",
    "    fig.update_layout(\n",
    "        title=f'Volume for {symbol_name} Over Time',\n",
    "        xaxis_title='Date',\n",
    "        yaxis_title='Volume',\n",
    "        yaxis_type='log',\n",
    "        height=300,\n",
    "        template='plotly_white',\n",
    "        xaxis=dict(showgrid=True, showline=True, showticklabels=True, gridcolor='rgb(204, 204, 204)', linecolor='rgb(204, 204, 204)', linewidth=2, ticks='outside'),\n",
    "        yaxis=dict(showgrid=True, showline=True, showticklabels=True, gridcolor='rgb(204, 204, 204)', linecolor='rgb(204, 204, 204)', linewidth=2, ticks='outside'),\n",
    "        hovermode=\"x unified\",\n",
    "    )\n",
    "    \n",
    "    return fig"
   ]
  },
  {
   "cell_type": "markdown",
   "id": "00a15c47-0429-4eeb-9f01-8691bd3add3f",
   "metadata": {},
   "source": [
    "#### Test Figure Creation & Display"
   ]
  },
  {
   "cell_type": "markdown",
   "id": "2c8f084c-94f6-48a8-b9ae-5dfa79b9b997",
   "metadata": {},
   "source": [
    "##### Volume Figure BTC"
   ]
  },
  {
   "cell_type": "code",
   "execution_count": 110,
   "id": "84246503-5ab3-4a8a-933b-bd873bac62ce",
   "metadata": {},
   "outputs": [
    {
     "name": "stdout",
     "output_type": "stream",
     "text": [
      "Launching server at http://localhost:36737\n"
     ]
    },
    {
     "data": {
      "text/plain": [
       "<panel.io.server.Server at 0x7f3a8cb6de10>"
      ]
     },
     "execution_count": 110,
     "metadata": {},
     "output_type": "execute_result"
    },
    {
     "name": "stderr",
     "output_type": "stream",
     "text": [
      "QSocketNotifier: Can only be used with threads started with QThread\n"
     ]
    }
   ],
   "source": [
    "# Test Display of Figure\n",
    "symbol = 'BTC'\n",
    "#dataframes = load_symbol_data(symbols, directory)\n",
    "df_BTC = dataframes.get('BTC')  # Example of accessing the DataFrame for BTC\n",
    "df_symbol = df_BTC\n",
    "volume_BTC = plot_volume(symbol, df_BTC, colors_a, colors_b)\n",
    "plotly_fig3a = pn.pane.Plotly(volume_BTC)\n",
    "plotly_fig3a.show()"
   ]
  },
  {
   "cell_type": "markdown",
   "id": "9f3bca04-0f71-4376-86a8-692e7da74f8a",
   "metadata": {},
   "source": [
    "##### Volume Figure (ETH)"
   ]
  },
  {
   "cell_type": "code",
   "execution_count": 111,
   "id": "f75043b1-e6b4-4e45-860c-a9b1dbbf41cb",
   "metadata": {},
   "outputs": [
    {
     "name": "stdout",
     "output_type": "stream",
     "text": [
      "Wird in einer aktuellen Browsersitzung geöffnet.\n"
     ]
    }
   ],
   "source": [
    "symbol = 'ETH'\n",
    "#dataframes = load_symbol_data(symbols, directory)\n",
    "df_ETH = dataframes.get('ETH')  # Example of accessing the DataFrame for BTC\n",
    "df_symbol = df_ETH\n",
    "volume_ETH = plot_volume(symbol, df_ETH, colors_a, colors_b)"
   ]
  },
  {
   "cell_type": "markdown",
   "id": "40031acc-8cd5-45c4-9049-2fc94bdeec35",
   "metadata": {},
   "source": [
    "##### Volume Figure (BNB)"
   ]
  },
  {
   "cell_type": "code",
   "execution_count": 112,
   "id": "2005a867-e5f5-44a6-9a5f-f65b53c6dc62",
   "metadata": {},
   "outputs": [],
   "source": [
    "symbol = 'BNB'\n",
    "#dataframes = load_symbol_data(symbols, directory)\n",
    "df_BNB = dataframes.get('BNB')  # Example of accessing the DataFrame for BTC\n",
    "df_symbol = df_BNB\n",
    "volume_BNB = plot_volume(symbol, df_BNB, colors_a, colors_b)"
   ]
  },
  {
   "cell_type": "markdown",
   "id": "9f776c86-c989-4815-be46-da89834faadd",
   "metadata": {},
   "source": [
    "## VI. Dashboard (Test)"
   ]
  },
  {
   "cell_type": "markdown",
   "id": "39bea317-4dd1-4937-b90f-b58c7fd9de7c",
   "metadata": {},
   "source": [
    "### Resources"
   ]
  },
  {
   "cell_type": "markdown",
   "id": "7ab49789-a1fb-4ecf-929c-e251dd831c58",
   "metadata": {},
   "source": [
    "**General**\n",
    "\n",
    "https://panel.holoviz.org/\n",
    "\n",
    "**Plotly**\n",
    "\n",
    "https://panel.holoviz.org/reference/panes/Plotly.html\n",
    "\n",
    "**Layout**\n",
    "\n",
    "https://panel.holoviz.org/how_to/notebook/layout_builder.html"
   ]
  },
  {
   "cell_type": "markdown",
   "id": "ff6d3ee1-d284-4381-8284-0fd310a4b58c",
   "metadata": {},
   "source": [
    "### Components"
   ]
  },
  {
   "cell_type": "markdown",
   "id": "9aa0e896-c18f-47fa-b627-72cc8dc18b01",
   "metadata": {},
   "source": [
    "#### Get Dataframes for  (get_crypto_data)"
   ]
  },
  {
   "cell_type": "code",
   "execution_count": 113,
   "id": "04e60ec9-cf4b-4f9b-bc75-34e26f859634",
   "metadata": {},
   "outputs": [],
   "source": [
    "def get_crypto_data(symbol):\n",
    "    \"\"\"Fetch the dataframe for the selected cryptocurrency symbol.\"\"\"\n",
    "    df_symbol = dataframes.get(symbol)\n",
    "    return df_symbol"
   ]
  },
  {
   "cell_type": "markdown",
   "id": "59c70e20-1f28-4a93-960f-df7e1e1a2667",
   "metadata": {},
   "source": [
    "#### Symbol Selection (select_view)"
   ]
  },
  {
   "cell_type": "code",
   "execution_count": 114,
   "id": "2f1c07e4-493b-4290-a4b8-f943a3ecf9e6",
   "metadata": {},
   "outputs": [],
   "source": [
    "# Initialize the select_view widget\n",
    "\n",
    "select_view = pn.widgets.Select(name='Select Cryptocurrency:', options=[symbol[:-4] for symbol in symbols], value='BTC')"
   ]
  },
  {
   "cell_type": "markdown",
   "id": "675f6e72-7161-46b4-938a-a16eb0a61c59",
   "metadata": {},
   "source": [
    "#### Add Symbol"
   ]
  },
  {
   "cell_type": "code",
   "execution_count": 115,
   "id": "a0e4c766-d721-4ad2-a55c-d622a65b0d98",
   "metadata": {},
   "outputs": [],
   "source": [
    "# Add symbols to list"
   ]
  },
  {
   "cell_type": "markdown",
   "id": "2d1d3ee8-1464-4b45-93f5-34d69b768153",
   "metadata": {},
   "source": [
    "#### Figures (create_price_volume_figs)"
   ]
  },
  {
   "cell_type": "code",
   "execution_count": 116,
   "id": "a653374c-2166-4a23-9712-55bcf20d2f3a",
   "metadata": {},
   "outputs": [],
   "source": [
    "def create_price_volume_figs(symbol):\n",
    "    \"\"\"Generate the price and volume figures for the selected cryptocurrency.\"\"\"\n",
    "    df_symbol = get_crypto_data(symbol)\n",
    "\n",
    "    # Generate price figure\n",
    "    price_fig = plot_price(symbol, df_symbol, colors_a, colors_b)\n",
    "    \n",
    "    # Generate volume figure\n",
    "    volume_fig = plot_volume(symbol, df_symbol, colors_a, colors_b)\n",
    "\n",
    "    # Return both figures wrapped in panel objects\n",
    "    return pn.pane.Plotly(price_fig, height=800, sizing_mode=\"stretch_width\"), pn.pane.Plotly(volume_fig, height=300, sizing_mode=\"stretch_width\")"
   ]
  },
  {
   "cell_type": "markdown",
   "id": "00d2ca3d-156f-4f3d-95aa-defe2f41d947",
   "metadata": {},
   "source": [
    "##### Manual creation of Figures"
   ]
  },
  {
   "cell_type": "code",
   "execution_count": 117,
   "id": "b1359325-6582-4a2c-a1b7-52cc8816cccd",
   "metadata": {},
   "outputs": [],
   "source": [
    "# # Comparison\n",
    "# ath_bars = pn.pane.Plotly(fig_ath, height=500, sizing_mode=\"stretch_width\").servable()\n",
    "# stacked_comparison = pn.pane.Plotly(fig_stacked, height=500, sizing_mode=\"stretch_width\").servable()\n",
    "\n",
    "# # BTC\n",
    "# price_fig_BTC = pn.pane.Plotly(price_BTC, height=800, sizing_mode=\"stretch_width\").servable()\n",
    "# volume_fig_BTC = pn.pane.Plotly(volume_BTC, height=300, sizing_mode=\"stretch_width\").servable()\n",
    "\n",
    "# # ETH\n",
    "# price_fig_ETH = pn.pane.Plotly(price_ETH, height=800, sizing_mode=\"stretch_width\").servable()\n",
    "# volume_fig_ETH = pn.pane.Plotly(volume_ETH, height=300, sizing_mode=\"stretch_width\").servable()\n",
    "\n",
    "# # BNB\n",
    "# price_fig_BNB = pn.pane.Plotly(price_BNB, height=800, sizing_mode=\"stretch_width\").servable()\n",
    "# volume_fig_BNB = pn.pane.Plotly(volume_BNB, height=300, sizing_mode=\"stretch_width\").servable()"
   ]
  },
  {
   "cell_type": "markdown",
   "id": "d4ad792e-23fd-4958-997f-66c30d8c9013",
   "metadata": {},
   "source": [
    "### Dashboard Creation"
   ]
  },
  {
   "cell_type": "code",
   "execution_count": 124,
   "id": "5f3b6e95-8092-492a-a0c1-f74beead72cc",
   "metadata": {},
   "outputs": [],
   "source": [
    "@pn.depends(select_view.param.value)\n",
    "def update_dashboard(symbol):\n",
    "    \"\"\"Update the dashboard based on the selected cryptocurrency symbol.\"\"\"\n",
    "    # df_symbol = combined_df[combined_df['Symbol'] == symbol]\n",
    "    # df_symbol = get_crypto_data(symbol)\n",
    "    ath = ath_dict.get(symbol, 0)\n",
    "    current_price = current_price_dict.get(symbol, 0)\n",
    "\n",
    "    # Check if values are floats; otherwise, convert or set to 0\n",
    "    try:\n",
    "        ath = float(ath)\n",
    "    except ValueError:\n",
    "        ath = 0\n",
    "\n",
    "    try:\n",
    "        current_price = float(current_price)\n",
    "    except ValueError:\n",
    "        current_price = 0\n",
    "    \n",
    "    price_fig, volume_fig = create_price_volume_figs(symbol)\n",
    "    \n",
    "    return pn.Column(\n",
    "        price_fig,\n",
    "        volume_fig\n",
    "    )\n",
    "\n",
    "dashboard = pn.Column(\n",
    "    pn.pane.Markdown(\"# Cryptocurrency Dashboard\"),\n",
    "    select_view,\n",
    "    update_dashboard\n",
    ")\n",
    "dashboard.servable();"
   ]
  },
  {
   "cell_type": "code",
   "execution_count": 125,
   "id": "f9eaa8a4",
   "metadata": {},
   "outputs": [
    {
     "name": "stdout",
     "output_type": "stream",
     "text": [
      "Launching server at http://localhost:43681\n"
     ]
    },
    {
     "data": {
      "text/plain": [
       "<panel.io.server.Server at 0x7f3a8c742e50>"
      ]
     },
     "execution_count": 125,
     "metadata": {},
     "output_type": "execute_result"
    },
    {
     "name": "stderr",
     "output_type": "stream",
     "text": [
      "QSocketNotifier: Can only be used with threads started with QThread\n"
     ]
    },
    {
     "name": "stdout",
     "output_type": "stream",
     "text": [
      "Wird in einer aktuellen Browsersitzung geöffnet.\n"
     ]
    }
   ],
   "source": [
    "dashboard.show()"
   ]
  },
  {
   "cell_type": "markdown",
   "id": "e959fa58-7eb0-4313-bfc0-9fb031c73936",
   "metadata": {},
   "source": [
    "### App (Test)"
   ]
  },
  {
   "cell_type": "code",
   "execution_count": null,
   "id": "09bae5f9-d80a-4de9-9b7e-a209e14f9e7b",
   "metadata": {},
   "outputs": [],
   "source": [
    "# pn.template.FastListTemplate(\n",
    "#     title=\"Cryptocurrency Dashboard\",\n",
    "#     sidebar=[select_view],\n",
    "#     main=[dashboard], #change to fig_price & fig_volume\n",
    "#     main_layout=None,\n",
    "#     #accent=ACCENT, #create variable ACCENT = <THEME>\n",
    "# ).servable();"
   ]
  }
 ],
 "metadata": {
  "kernelspec": {
   "display_name": "jupyter_env",
   "language": "python",
   "name": "python3"
  },
  "language_info": {
   "codemirror_mode": {
    "name": "ipython",
    "version": 3
   },
   "file_extension": ".py",
   "mimetype": "text/x-python",
   "name": "python",
   "nbconvert_exporter": "python",
   "pygments_lexer": "ipython3",
   "version": "3.11.11"
  }
 },
 "nbformat": 4,
 "nbformat_minor": 5
}
