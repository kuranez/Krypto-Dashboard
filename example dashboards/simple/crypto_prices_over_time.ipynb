{
 "cells": [
  {
   "cell_type": "markdown",
   "id": "e3f27a9c-213b-41fb-a639-0b3ec36304c1",
   "metadata": {},
   "source": [
    "# Simple Cryptocurrency Dashboard"
   ]
  },
  {
   "cell_type": "markdown",
   "id": "90880042-0013-4f0e-88bb-3c3a9a69b0c9",
   "metadata": {},
   "source": [
    "## Import Libraries"
   ]
  },
  {
   "cell_type": "code",
   "execution_count": 1,
   "id": "999472fb-9f3c-4045-8187-42a37cca958a",
   "metadata": {},
   "outputs": [],
   "source": [
    "# Import Libraries\n",
    "import os\n",
    "from dotenv import load_dotenv\n",
    "\n",
    "import requests\n",
    "import pandas as pd\n",
    "import panel as pn\n",
    "import plotly.graph_objects as go\n",
    "import matplotlib.colors as mcolors\n",
    "from datetime import datetime, timedelta"
   ]
  },
  {
   "cell_type": "markdown",
   "id": "c2e8c5ba-b57b-4e83-b3f0-6fc12885a2d8",
   "metadata": {},
   "source": [
    "## Extension"
   ]
  },
  {
   "cell_type": "code",
   "execution_count": 2,
   "id": "1396e360-66e1-4557-ac54-e892469f1d1f",
   "metadata": {},
   "outputs": [
    {
     "data": {
      "text/html": [
       "<script type=\"esms-options\">{\"shimMode\": true}</script><style>*[data-root-id],\n",
       "*[data-root-id] > * {\n",
       "  box-sizing: border-box;\n",
       "  font-family: var(--jp-ui-font-family);\n",
       "  font-size: var(--jp-ui-font-size1);\n",
       "  color: var(--vscode-editor-foreground, var(--jp-ui-font-color1));\n",
       "}\n",
       "\n",
       "/* Override VSCode background color */\n",
       ".cell-output-ipywidget-background:has(\n",
       "    > .cell-output-ipywidget-background > .lm-Widget > *[data-root-id]\n",
       "  ),\n",
       ".cell-output-ipywidget-background:has(> .lm-Widget > *[data-root-id]) {\n",
       "  background-color: transparent !important;\n",
       "}\n",
       "</style>"
      ]
     },
     "metadata": {},
     "output_type": "display_data"
    },
    {
     "data": {
      "application/javascript": "(function(root) {\n  function now() {\n    return new Date();\n  }\n\n  const force = true;\n  const py_version = '3.6.2'.replace('rc', '-rc.').replace('.dev', '-dev.');\n  const reloading = false;\n  const Bokeh = root.Bokeh;\n\n  // Set a timeout for this load but only if we are not already initializing\n  if (typeof (root._bokeh_timeout) === \"undefined\" || (force || !root._bokeh_is_initializing)) {\n    root._bokeh_timeout = Date.now() + 5000;\n    root._bokeh_failed_load = false;\n  }\n\n  function run_callbacks() {\n    try {\n      root._bokeh_onload_callbacks.forEach(function(callback) {\n        if (callback != null)\n          callback();\n      });\n    } finally {\n      delete root._bokeh_onload_callbacks;\n    }\n    console.debug(\"Bokeh: all callbacks have finished\");\n  }\n\n  function load_libs(css_urls, js_urls, js_modules, js_exports, callback) {\n    if (css_urls == null) css_urls = [];\n    if (js_urls == null) js_urls = [];\n    if (js_modules == null) js_modules = [];\n    if (js_exports == null) js_exports = {};\n\n    root._bokeh_onload_callbacks.push(callback);\n\n    if (root._bokeh_is_loading > 0) {\n      // Don't load bokeh if it is still initializing\n      console.debug(\"Bokeh: BokehJS is being loaded, scheduling callback at\", now());\n      return null;\n    } else if (js_urls.length === 0 && js_modules.length === 0 && Object.keys(js_exports).length === 0) {\n      // There is nothing to load\n      run_callbacks();\n      return null;\n    }\n\n    function on_load() {\n      root._bokeh_is_loading--;\n      if (root._bokeh_is_loading === 0) {\n        console.debug(\"Bokeh: all BokehJS libraries/stylesheets loaded\");\n        run_callbacks()\n      }\n    }\n    window._bokeh_on_load = on_load\n\n    function on_error(e) {\n      const src_el = e.srcElement\n      console.error(\"failed to load \" + (src_el.href || src_el.src));\n    }\n\n    const skip = [];\n    if (window.requirejs) {\n      window.requirejs.config({'packages': {}, 'paths': {'plotly': 'https://cdn.plot.ly/plotly-3.0.1.min'}, 'shim': {}});\n      require([\"plotly\"], function(Plotly) {\n        window.Plotly = Plotly\n        on_load()\n      })\n      root._bokeh_is_loading = css_urls.length + 1;\n    } else {\n      root._bokeh_is_loading = css_urls.length + js_urls.length + js_modules.length + Object.keys(js_exports).length;\n    }\n\n    const existing_stylesheets = []\n    const links = document.getElementsByTagName('link')\n    for (let i = 0; i < links.length; i++) {\n      const link = links[i]\n      if (link.href != null) {\n        existing_stylesheets.push(link.href)\n      }\n    }\n    for (let i = 0; i < css_urls.length; i++) {\n      const url = css_urls[i];\n      const escaped = encodeURI(url)\n      if (existing_stylesheets.indexOf(escaped) !== -1) {\n        on_load()\n        continue;\n      }\n      const element = document.createElement(\"link\");\n      element.onload = on_load;\n      element.onerror = on_error;\n      element.rel = \"stylesheet\";\n      element.type = \"text/css\";\n      element.href = url;\n      console.debug(\"Bokeh: injecting link tag for BokehJS stylesheet: \", url);\n      document.body.appendChild(element);\n    }    if (((window.Plotly !== undefined) && (!(window.Plotly instanceof HTMLElement))) || window.requirejs) {\n      var urls = [];\n      for (var i = 0; i < urls.length; i++) {\n        skip.push(encodeURI(urls[i]))\n      }\n    }    var existing_scripts = []\n    const scripts = document.getElementsByTagName('script')\n    for (let i = 0; i < scripts.length; i++) {\n      var script = scripts[i]\n      if (script.src != null) {\n        existing_scripts.push(script.src)\n      }\n    }\n    for (let i = 0; i < js_urls.length; i++) {\n      const url = js_urls[i];\n      const escaped = encodeURI(url)\n      if (skip.indexOf(escaped) !== -1 || existing_scripts.indexOf(escaped) !== -1) {\n        if (!window.requirejs) {\n          on_load();\n        }\n        continue;\n      }\n      const element = document.createElement('script');\n      element.onload = on_load;\n      element.onerror = on_error;\n      element.async = false;\n      element.src = url;\n      console.debug(\"Bokeh: injecting script tag for BokehJS library: \", url);\n      document.head.appendChild(element);\n    }\n    for (let i = 0; i < js_modules.length; i++) {\n      const url = js_modules[i];\n      const escaped = encodeURI(url)\n      if (skip.indexOf(escaped) !== -1 || existing_scripts.indexOf(escaped) !== -1) {\n        if (!window.requirejs) {\n          on_load();\n        }\n        continue;\n      }\n      var element = document.createElement('script');\n      element.onload = on_load;\n      element.onerror = on_error;\n      element.async = false;\n      element.src = url;\n      element.type = \"module\";\n      console.debug(\"Bokeh: injecting script tag for BokehJS library: \", url);\n      document.head.appendChild(element);\n    }\n    for (const name in js_exports) {\n      const url = js_exports[name];\n      const escaped = encodeURI(url)\n      if (skip.indexOf(escaped) >= 0 || root[name] != null) {\n        if (!window.requirejs) {\n          on_load();\n        }\n        continue;\n      }\n      var element = document.createElement('script');\n      element.onerror = on_error;\n      element.async = false;\n      element.type = \"module\";\n      console.debug(\"Bokeh: injecting script tag for BokehJS library: \", url);\n      element.textContent = `\n      import ${name} from \"${url}\"\n      window.${name} = ${name}\n      window._bokeh_on_load()\n      `\n      document.head.appendChild(element);\n    }\n    if (!js_urls.length && !js_modules.length) {\n      on_load()\n    }\n  };\n\n  function inject_raw_css(css) {\n    const element = document.createElement(\"style\");\n    element.appendChild(document.createTextNode(css));\n    document.body.appendChild(element);\n  }\n\n  const js_urls = [\"https://cdn.holoviz.org/panel/1.7.0/dist/bundled/reactiveesm/es-module-shims@^1.10.0/dist/es-module-shims.min.js\", \"https://cdn.holoviz.org/panel/1.7.0/dist/bundled/plotlyplot/plotly-3.0.1.min.js\", \"https://cdn.bokeh.org/bokeh/release/bokeh-3.6.2.min.js\", \"https://cdn.bokeh.org/bokeh/release/bokeh-gl-3.6.2.min.js\", \"https://cdn.bokeh.org/bokeh/release/bokeh-widgets-3.6.2.min.js\", \"https://cdn.bokeh.org/bokeh/release/bokeh-tables-3.6.2.min.js\", \"https://cdn.holoviz.org/panel/1.7.0/dist/panel.min.js\"];\n  const js_modules = [];\n  const js_exports = {};\n  const css_urls = [\"https://cdn.holoviz.org/panel/1.7.0/dist/bundled/plotlyplot/maplibre-gl@4.4.1/dist/maplibre-gl.css?v=1.7.0\"];\n  const inline_js = [    function(Bokeh) {\n      Bokeh.set_log_level(\"info\");\n    },\nfunction(Bokeh) {} // ensure no trailing comma for IE\n  ];\n\n  function run_inline_js() {\n    if ((root.Bokeh !== undefined) || (force === true)) {\n      for (let i = 0; i < inline_js.length; i++) {\n        try {\n          inline_js[i].call(root, root.Bokeh);\n        } catch(e) {\n          if (!reloading) {\n            throw e;\n          }\n        }\n      }\n      // Cache old bokeh versions\n      if (Bokeh != undefined && !reloading) {\n        var NewBokeh = root.Bokeh;\n        if (Bokeh.versions === undefined) {\n          Bokeh.versions = new Map();\n        }\n        if (NewBokeh.version !== Bokeh.version) {\n          Bokeh.versions.set(NewBokeh.version, NewBokeh)\n        }\n        root.Bokeh = Bokeh;\n      }\n    } else if (Date.now() < root._bokeh_timeout) {\n      setTimeout(run_inline_js, 100);\n    } else if (!root._bokeh_failed_load) {\n      console.log(\"Bokeh: BokehJS failed to load within specified timeout.\");\n      root._bokeh_failed_load = true;\n    }\n    root._bokeh_is_initializing = false\n  }\n\n  function load_or_wait() {\n    // Implement a backoff loop that tries to ensure we do not load multiple\n    // versions of Bokeh and its dependencies at the same time.\n    // In recent versions we use the root._bokeh_is_initializing flag\n    // to determine whether there is an ongoing attempt to initialize\n    // bokeh, however for backward compatibility we also try to ensure\n    // that we do not start loading a newer (Panel>=1.0 and Bokeh>3) version\n    // before older versions are fully initialized.\n    if (root._bokeh_is_initializing && Date.now() > root._bokeh_timeout) {\n      // If the timeout and bokeh was not successfully loaded we reset\n      // everything and try loading again\n      root._bokeh_timeout = Date.now() + 5000;\n      root._bokeh_is_initializing = false;\n      root._bokeh_onload_callbacks = undefined;\n      root._bokeh_is_loading = 0\n      console.log(\"Bokeh: BokehJS was loaded multiple times but one version failed to initialize.\");\n      load_or_wait();\n    } else if (root._bokeh_is_initializing || (typeof root._bokeh_is_initializing === \"undefined\" && root._bokeh_onload_callbacks !== undefined)) {\n      setTimeout(load_or_wait, 100);\n    } else {\n      root._bokeh_is_initializing = true\n      root._bokeh_onload_callbacks = []\n      const bokeh_loaded = root.Bokeh != null && (root.Bokeh.version === py_version || (root.Bokeh.versions !== undefined && root.Bokeh.versions.has(py_version)));\n      if (!reloading && !bokeh_loaded) {\n        if (root.Bokeh) {\n          root.Bokeh = undefined;\n        }\n        console.debug(\"Bokeh: BokehJS not loaded, scheduling load and callback at\", now());\n      }\n      load_libs(css_urls, js_urls, js_modules, js_exports, function() {\n        console.debug(\"Bokeh: BokehJS plotting callback run at\", now());\n        run_inline_js();\n      });\n    }\n  }\n  // Give older versions of the autoload script a head-start to ensure\n  // they initialize before we start loading newer version.\n  setTimeout(load_or_wait, 100)\n}(window));",
      "application/vnd.holoviews_load.v0+json": ""
     },
     "metadata": {},
     "output_type": "display_data"
    },
    {
     "data": {
      "application/javascript": "\nif ((window.PyViz === undefined) || (window.PyViz instanceof HTMLElement)) {\n  window.PyViz = {comms: {}, comm_status:{}, kernels:{}, receivers: {}, plot_index: []}\n}\n\n\n    function JupyterCommManager() {\n    }\n\n    JupyterCommManager.prototype.register_target = function(plot_id, comm_id, msg_handler) {\n      if (window.comm_manager || ((window.Jupyter !== undefined) && (Jupyter.notebook.kernel != null))) {\n        var comm_manager = window.comm_manager || Jupyter.notebook.kernel.comm_manager;\n        comm_manager.register_target(comm_id, function(comm) {\n          comm.on_msg(msg_handler);\n        });\n      } else if ((plot_id in window.PyViz.kernels) && (window.PyViz.kernels[plot_id])) {\n        window.PyViz.kernels[plot_id].registerCommTarget(comm_id, function(comm) {\n          comm.onMsg = msg_handler;\n        });\n      } else if (typeof google != 'undefined' && google.colab.kernel != null) {\n        google.colab.kernel.comms.registerTarget(comm_id, (comm) => {\n          var messages = comm.messages[Symbol.asyncIterator]();\n          function processIteratorResult(result) {\n            var message = result.value;\n            console.log(message)\n            var content = {data: message.data, comm_id};\n            var buffers = []\n            for (var buffer of message.buffers || []) {\n              buffers.push(new DataView(buffer))\n            }\n            var metadata = message.metadata || {};\n            var msg = {content, buffers, metadata}\n            msg_handler(msg);\n            return messages.next().then(processIteratorResult);\n          }\n          return messages.next().then(processIteratorResult);\n        })\n      }\n    }\n\n    JupyterCommManager.prototype.get_client_comm = function(plot_id, comm_id, msg_handler) {\n      if (comm_id in window.PyViz.comms) {\n        return window.PyViz.comms[comm_id];\n      } else if (window.comm_manager || ((window.Jupyter !== undefined) && (Jupyter.notebook.kernel != null))) {\n        var comm_manager = window.comm_manager || Jupyter.notebook.kernel.comm_manager;\n        var comm = comm_manager.new_comm(comm_id, {}, {}, {}, comm_id);\n        if (msg_handler) {\n          comm.on_msg(msg_handler);\n        }\n      } else if ((plot_id in window.PyViz.kernels) && (window.PyViz.kernels[plot_id])) {\n        var comm = window.PyViz.kernels[plot_id].connectToComm(comm_id);\n        comm.open();\n        if (msg_handler) {\n          comm.onMsg = msg_handler;\n        }\n      } else if (typeof google != 'undefined' && google.colab.kernel != null) {\n        var comm_promise = google.colab.kernel.comms.open(comm_id)\n        comm_promise.then((comm) => {\n          window.PyViz.comms[comm_id] = comm;\n          if (msg_handler) {\n            var messages = comm.messages[Symbol.asyncIterator]();\n            function processIteratorResult(result) {\n              var message = result.value;\n              var content = {data: message.data};\n              var metadata = message.metadata || {comm_id};\n              var msg = {content, metadata}\n              msg_handler(msg);\n              return messages.next().then(processIteratorResult);\n            }\n            return messages.next().then(processIteratorResult);\n          }\n        }) \n        var sendClosure = (data, metadata, buffers, disposeOnDone) => {\n          return comm_promise.then((comm) => {\n            comm.send(data, metadata, buffers, disposeOnDone);\n          });\n        };\n        var comm = {\n          send: sendClosure\n        };\n      }\n      window.PyViz.comms[comm_id] = comm;\n      return comm;\n    }\n    window.PyViz.comm_manager = new JupyterCommManager();\n    \n\n\nvar JS_MIME_TYPE = 'application/javascript';\nvar HTML_MIME_TYPE = 'text/html';\nvar EXEC_MIME_TYPE = 'application/vnd.holoviews_exec.v0+json';\nvar CLASS_NAME = 'output';\n\n/**\n * Render data to the DOM node\n */\nfunction render(props, node) {\n  var div = document.createElement(\"div\");\n  var script = document.createElement(\"script\");\n  node.appendChild(div);\n  node.appendChild(script);\n}\n\n/**\n * Handle when a new output is added\n */\nfunction handle_add_output(event, handle) {\n  var output_area = handle.output_area;\n  var output = handle.output;\n  if ((output.data == undefined) || (!output.data.hasOwnProperty(EXEC_MIME_TYPE))) {\n    return\n  }\n  var id = output.metadata[EXEC_MIME_TYPE][\"id\"];\n  var toinsert = output_area.element.find(\".\" + CLASS_NAME.split(' ')[0]);\n  if (id !== undefined) {\n    var nchildren = toinsert.length;\n    var html_node = toinsert[nchildren-1].children[0];\n    html_node.innerHTML = output.data[HTML_MIME_TYPE];\n    var scripts = [];\n    var nodelist = html_node.querySelectorAll(\"script\");\n    for (var i in nodelist) {\n      if (nodelist.hasOwnProperty(i)) {\n        scripts.push(nodelist[i])\n      }\n    }\n\n    scripts.forEach( function (oldScript) {\n      var newScript = document.createElement(\"script\");\n      var attrs = [];\n      var nodemap = oldScript.attributes;\n      for (var j in nodemap) {\n        if (nodemap.hasOwnProperty(j)) {\n          attrs.push(nodemap[j])\n        }\n      }\n      attrs.forEach(function(attr) { newScript.setAttribute(attr.name, attr.value) });\n      newScript.appendChild(document.createTextNode(oldScript.innerHTML));\n      oldScript.parentNode.replaceChild(newScript, oldScript);\n    });\n    if (JS_MIME_TYPE in output.data) {\n      toinsert[nchildren-1].children[1].textContent = output.data[JS_MIME_TYPE];\n    }\n    output_area._hv_plot_id = id;\n    if ((window.Bokeh !== undefined) && (id in Bokeh.index)) {\n      window.PyViz.plot_index[id] = Bokeh.index[id];\n    } else {\n      window.PyViz.plot_index[id] = null;\n    }\n  } else if (output.metadata[EXEC_MIME_TYPE][\"server_id\"] !== undefined) {\n    var bk_div = document.createElement(\"div\");\n    bk_div.innerHTML = output.data[HTML_MIME_TYPE];\n    var script_attrs = bk_div.children[0].attributes;\n    for (var i = 0; i < script_attrs.length; i++) {\n      toinsert[toinsert.length - 1].childNodes[1].setAttribute(script_attrs[i].name, script_attrs[i].value);\n    }\n    // store reference to server id on output_area\n    output_area._bokeh_server_id = output.metadata[EXEC_MIME_TYPE][\"server_id\"];\n  }\n}\n\n/**\n * Handle when an output is cleared or removed\n */\nfunction handle_clear_output(event, handle) {\n  var id = handle.cell.output_area._hv_plot_id;\n  var server_id = handle.cell.output_area._bokeh_server_id;\n  if (((id === undefined) || !(id in PyViz.plot_index)) && (server_id !== undefined)) { return; }\n  var comm = window.PyViz.comm_manager.get_client_comm(\"hv-extension-comm\", \"hv-extension-comm\", function () {});\n  if (server_id !== null) {\n    comm.send({event_type: 'server_delete', 'id': server_id});\n    return;\n  } else if (comm !== null) {\n    comm.send({event_type: 'delete', 'id': id});\n  }\n  delete PyViz.plot_index[id];\n  if ((window.Bokeh !== undefined) & (id in window.Bokeh.index)) {\n    var doc = window.Bokeh.index[id].model.document\n    doc.clear();\n    const i = window.Bokeh.documents.indexOf(doc);\n    if (i > -1) {\n      window.Bokeh.documents.splice(i, 1);\n    }\n  }\n}\n\n/**\n * Handle kernel restart event\n */\nfunction handle_kernel_cleanup(event, handle) {\n  delete PyViz.comms[\"hv-extension-comm\"];\n  window.PyViz.plot_index = {}\n}\n\n/**\n * Handle update_display_data messages\n */\nfunction handle_update_output(event, handle) {\n  handle_clear_output(event, {cell: {output_area: handle.output_area}})\n  handle_add_output(event, handle)\n}\n\nfunction register_renderer(events, OutputArea) {\n  function append_mime(data, metadata, element) {\n    // create a DOM node to render to\n    var toinsert = this.create_output_subarea(\n    metadata,\n    CLASS_NAME,\n    EXEC_MIME_TYPE\n    );\n    this.keyboard_manager.register_events(toinsert);\n    // Render to node\n    var props = {data: data, metadata: metadata[EXEC_MIME_TYPE]};\n    render(props, toinsert[0]);\n    element.append(toinsert);\n    return toinsert\n  }\n\n  events.on('output_added.OutputArea', handle_add_output);\n  events.on('output_updated.OutputArea', handle_update_output);\n  events.on('clear_output.CodeCell', handle_clear_output);\n  events.on('delete.Cell', handle_clear_output);\n  events.on('kernel_ready.Kernel', handle_kernel_cleanup);\n\n  OutputArea.prototype.register_mime_type(EXEC_MIME_TYPE, append_mime, {\n    safe: true,\n    index: 0\n  });\n}\n\nif (window.Jupyter !== undefined) {\n  try {\n    var events = require('base/js/events');\n    var OutputArea = require('notebook/js/outputarea').OutputArea;\n    if (OutputArea.prototype.mime_types().indexOf(EXEC_MIME_TYPE) == -1) {\n      register_renderer(events, OutputArea);\n    }\n  } catch(err) {\n  }\n}\n",
      "application/vnd.holoviews_load.v0+json": ""
     },
     "metadata": {},
     "output_type": "display_data"
    },
    {
     "data": {
      "application/vnd.holoviews_exec.v0+json": "",
      "text/html": [
       "<div id='42ddd40b-57c6-4892-a494-bdba7bcb55ba'>\n",
       "  <div id=\"a68238bd-13ff-4eeb-a9d4-5ca9c8dfb677\" data-root-id=\"42ddd40b-57c6-4892-a494-bdba7bcb55ba\" style=\"display: contents;\"></div>\n",
       "</div>\n",
       "<script type=\"application/javascript\">(function(root) {\n",
       "  var docs_json = {\"ae5833be-eaf6-4be1-b550-122436f763d4\":{\"version\":\"3.6.2\",\"title\":\"Bokeh Application\",\"roots\":[{\"type\":\"object\",\"name\":\"panel.models.browser.BrowserInfo\",\"id\":\"42ddd40b-57c6-4892-a494-bdba7bcb55ba\"},{\"type\":\"object\",\"name\":\"panel.models.comm_manager.CommManager\",\"id\":\"d8e1fe89-c6e0-46e5-827d-c2b66a67ecb4\",\"attributes\":{\"plot_id\":\"42ddd40b-57c6-4892-a494-bdba7bcb55ba\",\"comm_id\":\"3d574252a3224b7d9873f0af9151cc08\",\"client_comm_id\":\"e4c4048a68864a0596b7b2c19441b050\"}}],\"defs\":[{\"type\":\"model\",\"name\":\"ReactiveHTML1\"},{\"type\":\"model\",\"name\":\"FlexBox1\",\"properties\":[{\"name\":\"align_content\",\"kind\":\"Any\",\"default\":\"flex-start\"},{\"name\":\"align_items\",\"kind\":\"Any\",\"default\":\"flex-start\"},{\"name\":\"flex_direction\",\"kind\":\"Any\",\"default\":\"row\"},{\"name\":\"flex_wrap\",\"kind\":\"Any\",\"default\":\"wrap\"},{\"name\":\"gap\",\"kind\":\"Any\",\"default\":\"\"},{\"name\":\"justify_content\",\"kind\":\"Any\",\"default\":\"flex-start\"}]},{\"type\":\"model\",\"name\":\"FloatPanel1\",\"properties\":[{\"name\":\"config\",\"kind\":\"Any\",\"default\":{\"type\":\"map\"}},{\"name\":\"contained\",\"kind\":\"Any\",\"default\":true},{\"name\":\"position\",\"kind\":\"Any\",\"default\":\"right-top\"},{\"name\":\"offsetx\",\"kind\":\"Any\",\"default\":null},{\"name\":\"offsety\",\"kind\":\"Any\",\"default\":null},{\"name\":\"theme\",\"kind\":\"Any\",\"default\":\"primary\"},{\"name\":\"status\",\"kind\":\"Any\",\"default\":\"normalized\"}]},{\"type\":\"model\",\"name\":\"GridStack1\",\"properties\":[{\"name\":\"ncols\",\"kind\":\"Any\",\"default\":null},{\"name\":\"nrows\",\"kind\":\"Any\",\"default\":null},{\"name\":\"allow_resize\",\"kind\":\"Any\",\"default\":true},{\"name\":\"allow_drag\",\"kind\":\"Any\",\"default\":true},{\"name\":\"state\",\"kind\":\"Any\",\"default\":[]}]},{\"type\":\"model\",\"name\":\"drag1\",\"properties\":[{\"name\":\"slider_width\",\"kind\":\"Any\",\"default\":5},{\"name\":\"slider_color\",\"kind\":\"Any\",\"default\":\"black\"},{\"name\":\"value\",\"kind\":\"Any\",\"default\":50}]},{\"type\":\"model\",\"name\":\"click1\",\"properties\":[{\"name\":\"terminal_output\",\"kind\":\"Any\",\"default\":\"\"},{\"name\":\"debug_name\",\"kind\":\"Any\",\"default\":\"\"},{\"name\":\"clears\",\"kind\":\"Any\",\"default\":0}]},{\"type\":\"model\",\"name\":\"FastWrapper1\",\"properties\":[{\"name\":\"object\",\"kind\":\"Any\",\"default\":null},{\"name\":\"style\",\"kind\":\"Any\",\"default\":null}]},{\"type\":\"model\",\"name\":\"NotificationArea1\",\"properties\":[{\"name\":\"js_events\",\"kind\":\"Any\",\"default\":{\"type\":\"map\"}},{\"name\":\"max_notifications\",\"kind\":\"Any\",\"default\":5},{\"name\":\"notifications\",\"kind\":\"Any\",\"default\":[]},{\"name\":\"position\",\"kind\":\"Any\",\"default\":\"bottom-right\"},{\"name\":\"_clear\",\"kind\":\"Any\",\"default\":0},{\"name\":\"types\",\"kind\":\"Any\",\"default\":[{\"type\":\"map\",\"entries\":[[\"type\",\"warning\"],[\"background\",\"#ffc107\"],[\"icon\",{\"type\":\"map\",\"entries\":[[\"className\",\"fas fa-exclamation-triangle\"],[\"tagName\",\"i\"],[\"color\",\"white\"]]}]]},{\"type\":\"map\",\"entries\":[[\"type\",\"info\"],[\"background\",\"#007bff\"],[\"icon\",{\"type\":\"map\",\"entries\":[[\"className\",\"fas fa-info-circle\"],[\"tagName\",\"i\"],[\"color\",\"white\"]]}]]}]}]},{\"type\":\"model\",\"name\":\"Notification\",\"properties\":[{\"name\":\"background\",\"kind\":\"Any\",\"default\":null},{\"name\":\"duration\",\"kind\":\"Any\",\"default\":3000},{\"name\":\"icon\",\"kind\":\"Any\",\"default\":null},{\"name\":\"message\",\"kind\":\"Any\",\"default\":\"\"},{\"name\":\"notification_type\",\"kind\":\"Any\",\"default\":null},{\"name\":\"_rendered\",\"kind\":\"Any\",\"default\":false},{\"name\":\"_destroyed\",\"kind\":\"Any\",\"default\":false}]},{\"type\":\"model\",\"name\":\"TemplateActions1\",\"properties\":[{\"name\":\"open_modal\",\"kind\":\"Any\",\"default\":0},{\"name\":\"close_modal\",\"kind\":\"Any\",\"default\":0}]},{\"type\":\"model\",\"name\":\"BootstrapTemplateActions1\",\"properties\":[{\"name\":\"open_modal\",\"kind\":\"Any\",\"default\":0},{\"name\":\"close_modal\",\"kind\":\"Any\",\"default\":0}]},{\"type\":\"model\",\"name\":\"TemplateEditor1\",\"properties\":[{\"name\":\"layout\",\"kind\":\"Any\",\"default\":[]}]},{\"type\":\"model\",\"name\":\"MaterialTemplateActions1\",\"properties\":[{\"name\":\"open_modal\",\"kind\":\"Any\",\"default\":0},{\"name\":\"close_modal\",\"kind\":\"Any\",\"default\":0}]},{\"type\":\"model\",\"name\":\"ReactiveESM1\",\"properties\":[{\"name\":\"esm_constants\",\"kind\":\"Any\",\"default\":{\"type\":\"map\"}}]},{\"type\":\"model\",\"name\":\"JSComponent1\",\"properties\":[{\"name\":\"esm_constants\",\"kind\":\"Any\",\"default\":{\"type\":\"map\"}}]},{\"type\":\"model\",\"name\":\"ReactComponent1\",\"properties\":[{\"name\":\"esm_constants\",\"kind\":\"Any\",\"default\":{\"type\":\"map\"}}]},{\"type\":\"model\",\"name\":\"AnyWidgetComponent1\",\"properties\":[{\"name\":\"esm_constants\",\"kind\":\"Any\",\"default\":{\"type\":\"map\"}}]},{\"type\":\"model\",\"name\":\"request_value1\",\"properties\":[{\"name\":\"fill\",\"kind\":\"Any\",\"default\":\"none\"},{\"name\":\"_synced\",\"kind\":\"Any\",\"default\":null},{\"name\":\"_request_sync\",\"kind\":\"Any\",\"default\":0}]}]}};\n",
       "  var render_items = [{\"docid\":\"ae5833be-eaf6-4be1-b550-122436f763d4\",\"roots\":{\"42ddd40b-57c6-4892-a494-bdba7bcb55ba\":\"a68238bd-13ff-4eeb-a9d4-5ca9c8dfb677\"},\"root_ids\":[\"42ddd40b-57c6-4892-a494-bdba7bcb55ba\"]}];\n",
       "  var docs = Object.values(docs_json)\n",
       "  if (!docs) {\n",
       "    return\n",
       "  }\n",
       "  const py_version = docs[0].version.replace('rc', '-rc.').replace('.dev', '-dev.')\n",
       "  async function embed_document(root) {\n",
       "    var Bokeh = get_bokeh(root)\n",
       "    await Bokeh.embed.embed_items_notebook(docs_json, render_items);\n",
       "    for (const render_item of render_items) {\n",
       "      for (const root_id of render_item.root_ids) {\n",
       "\tconst id_el = document.getElementById(root_id)\n",
       "\tif (id_el.children.length && id_el.children[0].hasAttribute('data-root-id')) {\n",
       "\t  const root_el = id_el.children[0]\n",
       "\t  root_el.id = root_el.id + '-rendered'\n",
       "\t  for (const child of root_el.children) {\n",
       "            // Ensure JupyterLab does not capture keyboard shortcuts\n",
       "            // see: https://jupyterlab.readthedocs.io/en/4.1.x/extension/notebook.html#keyboard-interaction-model\n",
       "\t    child.setAttribute('data-lm-suppress-shortcuts', 'true')\n",
       "\t  }\n",
       "\t}\n",
       "      }\n",
       "    }\n",
       "  }\n",
       "  function get_bokeh(root) {\n",
       "    if (root.Bokeh === undefined) {\n",
       "      return null\n",
       "    } else if (root.Bokeh.version !== py_version) {\n",
       "      if (root.Bokeh.versions === undefined || !root.Bokeh.versions.has(py_version)) {\n",
       "\treturn null\n",
       "      }\n",
       "      return root.Bokeh.versions.get(py_version);\n",
       "    } else if (root.Bokeh.version === py_version) {\n",
       "      return root.Bokeh\n",
       "    }\n",
       "    return null\n",
       "  }\n",
       "  function is_loaded(root) {\n",
       "    var Bokeh = get_bokeh(root)\n",
       "    return (Bokeh != null && Bokeh.Panel !== undefined && ( root.Plotly !== undefined) && ( root.Plotly !== undefined))\n",
       "  }\n",
       "  if (is_loaded(root)) {\n",
       "    embed_document(root);\n",
       "  } else {\n",
       "    var attempts = 0;\n",
       "    var timer = setInterval(function(root) {\n",
       "      if (is_loaded(root)) {\n",
       "        clearInterval(timer);\n",
       "        embed_document(root);\n",
       "      } else if (document.readyState == \"complete\") {\n",
       "        attempts++;\n",
       "        if (attempts > 200) {\n",
       "          clearInterval(timer);\n",
       "\t  var Bokeh = get_bokeh(root)\n",
       "\t  if (Bokeh == null || Bokeh.Panel == null) {\n",
       "            console.warn(\"Panel: ERROR: Unable to run Panel code because Bokeh or Panel library is missing\");\n",
       "\t  } else {\n",
       "\t    console.warn(\"Panel: WARNING: Attempting to render but not all required libraries could be resolved.\")\n",
       "\t    embed_document(root)\n",
       "\t  }\n",
       "        }\n",
       "      }\n",
       "    }, 25, root)\n",
       "  }\n",
       "})(window);</script>"
      ]
     },
     "metadata": {
      "application/vnd.holoviews_exec.v0+json": {
       "id": "42ddd40b-57c6-4892-a494-bdba7bcb55ba"
      }
     },
     "output_type": "display_data"
    }
   ],
   "source": [
    "pn.extension('plotly')"
   ]
  },
  {
   "cell_type": "markdown",
   "id": "90f55889-5aaa-43d9-962d-fbb1104decb7",
   "metadata": {},
   "source": [
    "## Styles"
   ]
  },
  {
   "cell_type": "markdown",
   "id": "22ea8985-feaa-4bbe-a1d0-12bf3d62d812",
   "metadata": {},
   "source": [
    "### Panel Style"
   ]
  },
  {
   "cell_type": "code",
   "execution_count": 3,
   "id": "e0c590d5-2768-45f9-b7c3-d7221c431f1e",
   "metadata": {},
   "outputs": [],
   "source": [
    "# App Style\n",
    "ACCENT = \"teal\"\n",
    "\n",
    "styles = {\n",
    "    \"box-shadow\": \"rgba(50, 50, 93, 0.25) 0px 6px 12px -2px, rgba(0, 0, 0, 0.3) 0px 3px 7px -3px\",\n",
    "    \"border-radius\": \"4px\",\n",
    "    \"padding\": \"10px\",\n",
    "}"
   ]
  },
  {
   "cell_type": "markdown",
   "id": "687d604c-78d1-48c0-9950-7d72e74ce3f4",
   "metadata": {},
   "source": [
    "### Colors for Plotly"
   ]
  },
  {
   "cell_type": "code",
   "execution_count": 4,
   "id": "9d8185fe-99f4-4371-9881-2c7f69d27139",
   "metadata": {},
   "outputs": [],
   "source": [
    "# Colors\n",
    "colors_a = {\n",
    "    'BTC': 'orange',\n",
    "    'ETH': 'mediumpurple',\n",
    "    'BNB': 'indianred'\n",
    "}\n",
    "\n",
    "colors_b = {\n",
    "    'BTC': 'gold',\n",
    "    'ETH': 'plum',\n",
    "    'BNB': 'lightsalmon'\n",
    "}"
   ]
  },
  {
   "cell_type": "markdown",
   "id": "7baf37fb-94c0-4ce9-915f-7c2c1576a4e6",
   "metadata": {},
   "source": [
    "## Data Extraction & Transformation"
   ]
  },
  {
   "cell_type": "markdown",
   "id": "2ad9dde6-04f8-432c-9c83-8ad4efcb1b91",
   "metadata": {},
   "source": [
    "### Binance API"
   ]
  },
  {
   "cell_type": "code",
   "execution_count": 5,
   "id": "58e693f4-c779-4dd0-8b49-c53a30fa4d51",
   "metadata": {},
   "outputs": [],
   "source": [
    "# Load API Key from .env file\n",
    "load_dotenv('keys.env')\n",
    "BINANCE_API_KEY = os.getenv('BINANCE_API_KEY')\n",
    "\n",
    "# Binance API Constants\n",
    "BINANCE_API_URL = 'https://api.binance.us/api/v3/klines'\n",
    "BINANCE_API_URL_CURRENT_PRICE = 'https://api.binance.us/api/v3/ticker/price?symbol='"
   ]
  },
  {
   "cell_type": "markdown",
   "id": "3fe1a8fe-de8c-4f7a-87a4-ba89ad4c7c51",
   "metadata": {},
   "source": [
    "### Helper Functions"
   ]
  },
  {
   "cell_type": "markdown",
   "id": "e05c337c-62e0-46b4-a8a6-7b4475966029",
   "metadata": {},
   "source": [
    "#### Fetch Historical Data"
   ]
  },
  {
   "cell_type": "code",
   "execution_count": 6,
   "id": "ab04daca-c2df-4a63-9ed7-011d8d31c37f",
   "metadata": {},
   "outputs": [],
   "source": [
    "@pn.cache()\n",
    "def fetch_historical_data(symbol='BTCUSDT', interval='1d', start_time=None, end_time=None, limit=1000):\n",
    "    \"\"\"Fetch historical data for a given symbol from Binance API.\"\"\"\n",
    "    params = {\n",
    "        'symbol': symbol,\n",
    "        'interval': interval,\n",
    "        'limit': limit,\n",
    "        'startTime': start_time,\n",
    "        'endTime': end_time\n",
    "    }\n",
    "    response = requests.get(BINANCE_API_URL, headers={'X-MBX-APIKEY': BINANCE_API_KEY}, params=params)\n",
    "\n",
    "    if response.status_code != 200:\n",
    "        print(f\"Error {response.status_code}: {response.text}\")\n",
    "        return None\n",
    "\n",
    "    data = response.json()\n",
    "    df = pd.DataFrame(data, columns=[\n",
    "        'Open Time', 'Open', 'High', 'Low', 'Close', 'Volume',\n",
    "        'Close Time', 'Quote Asset Volume', 'Number of Trades',\n",
    "        'Taker Buy Base Asset Volume', 'Taker Buy Quote Asset Volume', 'Ignore'\n",
    "    ])\n",
    "    df['Date'] = pd.to_datetime(df['Open Time'], unit='ms')\n",
    "    df = df.drop(columns=['Open Time', 'Close Time', 'Quote Asset Volume',\n",
    "                          'Taker Buy Base Asset Volume', 'Taker Buy Quote Asset Volume', 'Ignore'])\n",
    "    df['Symbol'] = symbol[:-4]\n",
    "    df['Close'] = df['Close'].astype(float)\n",
    "    return df"
   ]
  },
  {
   "cell_type": "markdown",
   "id": "a464b321-0c14-42c3-9220-4c4259571a49",
   "metadata": {},
   "source": [
    "#### Fetch Current Price"
   ]
  },
  {
   "cell_type": "code",
   "execution_count": 7,
   "id": "64bccf10-c7e6-41d5-9750-68d76e7f6545",
   "metadata": {},
   "outputs": [],
   "source": [
    "@pn.cache()\n",
    "def fetch_current_price(symbol):\n",
    "    \"\"\"Fetch the current price for a given symbol from Binance API.\"\"\"\n",
    "    url = BINANCE_API_URL_CURRENT_PRICE + symbol\n",
    "    response = requests.get(url)\n",
    "    if response.status_code == 200:\n",
    "        data = response.json()\n",
    "        return float(data.get('price', 0))\n",
    "    else:\n",
    "        print(f\"Error fetching current price for {symbol}: {response.status_code}\")\n",
    "        return None"
   ]
  },
  {
   "cell_type": "markdown",
   "id": "83b4d7de-4fd5-4def-a75a-48191b403a4c",
   "metadata": {},
   "source": [
    "#### Add Moving Averages"
   ]
  },
  {
   "cell_type": "code",
   "execution_count": 8,
   "id": "1d5554ba-f6ae-4b4b-8e03-9e9e6aca5c66",
   "metadata": {},
   "outputs": [],
   "source": [
    "def add_moving_averages(df):\n",
    "    \"\"\"Add Simple and Exponential Moving Averages to the DataFrame.\"\"\"\n",
    "    df['SMA_50'] = df['Close'].rolling(window=50).mean()\n",
    "    df['SMA_200'] = df['Close'].rolling(window=200).mean()\n",
    "    df['EMA_50'] = df['Close'].ewm(span=50, adjust=False).mean()\n",
    "    df['EMA_200'] = df['Close'].ewm(span=200, adjust=False).mean()\n",
    "    return df"
   ]
  },
  {
   "cell_type": "markdown",
   "id": "fb923721-0e14-451e-8a61-5f4b06450ab9",
   "metadata": {},
   "source": [
    "#### Convert Colors for Plotly"
   ]
  },
  {
   "cell_type": "code",
   "execution_count": 9,
   "id": "9850de17-3283-48cd-b963-08de40627e85",
   "metadata": {},
   "outputs": [],
   "source": [
    "def convert_color(color_name, opacity=0.8):\n",
    "    \"\"\"Convert a color name to rgba format.\"\"\"\n",
    "    rgba = mcolors.to_rgba(color_name, opacity)\n",
    "    return f'rgba({int(rgba[0]*255)}, {int(rgba[1]*255)}, {int(rgba[2]*255)}, {rgba[3]})'"
   ]
  },
  {
   "cell_type": "markdown",
   "id": "5d22d590-268a-4a6d-9e88-749b06cf99b0",
   "metadata": {},
   "source": [
    "### Time Intervals"
   ]
  },
  {
   "cell_type": "code",
   "execution_count": 10,
   "id": "cc5b448b-4ff5-4606-8fb1-0dede857948d",
   "metadata": {},
   "outputs": [],
   "source": [
    "# Intervals\n",
    "intervals = {\n",
    "    'All_Time': [None, None],\n",
    "    '5Y': [int((datetime.now() - timedelta(days=5*365)).timestamp() * 1000), None],\n",
    "    '1Y': [int((datetime.now() - timedelta(days=365)).timestamp() * 1000), None],\n",
    "    '6M': [int((datetime.now() - timedelta(days=180)).timestamp() * 1000), None],\n",
    "    '3M': [int((datetime.now() - timedelta(days=90)).timestamp() * 1000), None],\n",
    "    '1M': [int((datetime.now() - timedelta(days=30)).timestamp() * 1000), None],\n",
    "    '2W': [int((datetime.now() - timedelta(days=14)).timestamp() * 1000), None],\n",
    "    '1W': [int((datetime.now() - timedelta(days=7)).timestamp() * 1000), None],\n",
    "}"
   ]
  },
  {
   "cell_type": "markdown",
   "id": "3f996db3-678c-4755-b104-4e8ad87789be",
   "metadata": {},
   "source": [
    "### Data Extraction  & Transformation II"
   ]
  },
  {
   "cell_type": "code",
   "execution_count": 11,
   "id": "e373db58-09f5-4e81-aa22-2374583d0f78",
   "metadata": {},
   "outputs": [],
   "source": [
    "# Fetching Data and Building DataFrames\n",
    "\n",
    "symbols = ['BTCUSDT', 'ETHUSDT', 'BNBUSDT']\n",
    "dataframes = []\n",
    "ath_dict = {}\n",
    "current_price_dict = {}\n",
    "\n",
    "# Populate dataframes and dictionaries\n",
    "for symbol in symbols:\n",
    "    df = fetch_historical_data(symbol=symbol)\n",
    "    df = add_moving_averages(df)\n",
    "    dataframes.append(df)\n",
    "    \n",
    "    ath_dict[symbol[:-4]] = df['High'].max()\n",
    "    current_price_dict[symbol[:-4]] = fetch_current_price(symbol)\n",
    "\n",
    "combined_df = pd.concat(dataframes)"
   ]
  },
  {
   "cell_type": "markdown",
   "id": "a7314aec-7f80-4699-b3a7-c5dadf3bae95",
   "metadata": {},
   "source": [
    "## Widgets"
   ]
  },
  {
   "cell_type": "code",
   "execution_count": 12,
   "id": "f31aca0c-701a-4bde-bd01-eb54ea2952f8",
   "metadata": {},
   "outputs": [],
   "source": [
    "# Dashboard Components\n",
    "\n",
    "symbol_selector = pn.widgets.Select(name='Cryptocurrency', options=[symbol[:-4] for symbol in symbols], value='BTC')\n",
    "interval_selector = pn.widgets.Select(name='Time Interval', options=list(intervals.keys()), value='1Y')"
   ]
  },
  {
   "cell_type": "markdown",
   "id": "217ca15c-8338-461b-8d4f-7e8e49a9557f",
   "metadata": {},
   "source": [
    "## Figures"
   ]
  },
  {
   "cell_type": "code",
   "execution_count": 13,
   "id": "8140489d-f6f4-4755-8d90-19251e66c93c",
   "metadata": {},
   "outputs": [],
   "source": [
    "@pn.cache()\n",
    "@pn.depends(symbol_selector)\n",
    "def plot_ath_comparison(symbol):\n",
    "    # Fetch data\n",
    "    df_symbol = combined_df[combined_df['Symbol'] == symbol]\n",
    "    ath = ath_dict.get(symbol, 0)\n",
    "    current_price = current_price_dict.get(symbol, 0)\n",
    "\n",
    "    # Check if values are floats; otherwise, convert or set to 0\n",
    "    try:\n",
    "        ath = float(ath)\n",
    "    except ValueError:\n",
    "        ath = 0\n",
    "\n",
    "    try:\n",
    "        current_price = float(current_price)\n",
    "    except ValueError:\n",
    "        current_price = 0\n",
    "\n",
    "    # Create plots\n",
    "    fig_ath = go.Figure()\n",
    "\n",
    "    fig_ath.add_trace(go.Bar(\n",
    "        name=f'{symbol} All-Time-High: $ {ath:.2f}',\n",
    "        y=[symbol],\n",
    "        x=[ath],\n",
    "        marker_color=convert_color(colors_b[symbol], 0.6),\n",
    "        orientation='h',\n",
    "        hovertemplate=f'{symbol}<br>All-Time-High: $ %{{x:.2f}}<extra></extra>'\n",
    "    ))\n",
    "\n",
    "    fig_ath.add_trace(go.Bar(\n",
    "        name=f'{symbol} Current Price: $ {current_price:.2f}',\n",
    "        y=[symbol],\n",
    "        x=[current_price],\n",
    "        marker_color=convert_color(colors_a[symbol], 0.8),\n",
    "        orientation='h',\n",
    "        hovertemplate=f'{symbol}<br>Latest Price: $ %{{x:.2f}}<extra></extra>'\n",
    "    ))\n",
    "\n",
    "    fig_ath.update_layout(\n",
    "        title_text=f\"{symbol} Market Overview: Current Price vs. All-Time High\",\n",
    "        xaxis_title=\"Price (USD)\",\n",
    "        barmode='overlay',\n",
    "        xaxis_type='log',\n",
    "        template='plotly_white'\n",
    "    )\n",
    "    return pn.pane.Plotly(fig_ath, height=350)"
   ]
  },
  {
   "cell_type": "code",
   "execution_count": 14,
   "id": "0c447a13-b536-4fa8-acd7-124a5dd51594",
   "metadata": {},
   "outputs": [
    {
     "data": {
      "application/vnd.jupyter.widget-view+json": {
       "model_id": "fb5548e337f54352a7d46db5e1a6a799",
       "version_major": 2,
       "version_minor": 0
      },
      "text/plain": [
       "BokehModel(combine_events=True, render_bundle={'docs_json': {'f2fe6534-f2b9-42b5-82ba-597812d5d233': {'version…"
      ]
     },
     "execution_count": 14,
     "metadata": {},
     "output_type": "execute_result"
    }
   ],
   "source": [
    "plot_ath_comparison('BTC')"
   ]
  },
  {
   "cell_type": "code",
   "execution_count": 15,
   "id": "55da611b-de43-4e2d-820c-33cef655e782",
   "metadata": {},
   "outputs": [],
   "source": [
    "@pn.cache()\n",
    "@pn.depends(symbol_selector, interval_selector)\n",
    "def plot_price_over_time(symbol, interval):\n",
    "    # Fetch data\n",
    "    df_symbol = combined_df[combined_df['Symbol'] == symbol]\n",
    "    ath = ath_dict.get(symbol, 0)\n",
    "    current_price = current_price_dict.get(symbol, 0)\n",
    "\n",
    "    # Check if values are floats; otherwise, convert or set to 0\n",
    "    try:\n",
    "        ath = float(ath)\n",
    "    except ValueError:\n",
    "        ath = 0\n",
    "\n",
    "    try:\n",
    "        current_price = float(current_price)\n",
    "    except ValueError:\n",
    "        current_price = 0\n",
    "\n",
    "    # Create plots\n",
    "    fig_price = go.Figure()\n",
    "\n",
    "    # Filter data by interval\n",
    "    start_time, end_time = intervals[interval]\n",
    "    df_filtered = df_symbol[(df_symbol['Date'] >= pd.to_datetime(start_time, unit='ms'))] if start_time else df_symbol\n",
    "\n",
    "    fig_price.add_trace(go.Scatter(\n",
    "        x=df_filtered['Date'],\n",
    "        y=df_filtered['Close'],\n",
    "        mode='lines',\n",
    "        name=f'{symbol} Close',\n",
    "        line=dict(color=convert_color(colors_a[symbol], 0.8)),\n",
    "        fill='tozeroy',\n",
    "        fillcolor=convert_color(colors_b[symbol], 0.6),\n",
    "        hovertemplate=f'{symbol}<br>Date: %{{x}}<br>Close: $ %{{y:.2f}}<extra></extra>'\n",
    "    ))\n",
    "\n",
    "    fig_price.update_layout(\n",
    "        title_text=f\"{symbol} Price Over Time ({interval})\",\n",
    "        xaxis_title=\"Date\",\n",
    "        yaxis_title=\"Price (USD)\",\n",
    "        yaxis_type=\"log\",\n",
    "        #xaxis_rangeslider_visible=True,\n",
    "        template='plotly_white'\n",
    "    )\n",
    "\n",
    "    return pn.pane.Plotly(fig_price, height=500)"
   ]
  },
  {
   "cell_type": "code",
   "execution_count": 16,
   "id": "0178261c-ddc8-4dc4-9caf-452793cd3a1e",
   "metadata": {},
   "outputs": [
    {
     "data": {
      "application/vnd.jupyter.widget-view+json": {
       "model_id": "40ac12bdc3c1453c99f65be3cfcb45b9",
       "version_major": 2,
       "version_minor": 0
      },
      "text/plain": [
       "BokehModel(combine_events=True, render_bundle={'docs_json': {'5c1ba302-80b8-484a-9993-e3e1f66aedf6': {'version…"
      ]
     },
     "execution_count": 16,
     "metadata": {},
     "output_type": "execute_result"
    }
   ],
   "source": [
    "plot_price_over_time('BTC', '1Y')"
   ]
  },
  {
   "cell_type": "markdown",
   "id": "641d8b03-9c35-4769-93d8-543d15a98a0b",
   "metadata": {},
   "source": [
    "## App"
   ]
  },
  {
   "cell_type": "code",
   "execution_count": 19,
   "id": "9d6cccf5-3bd2-412f-8007-9d1169db1635",
   "metadata": {},
   "outputs": [],
   "source": [
    "pn.template.FastListTemplate(\n",
    "    title=\"Cryptocurrency Dashboard\",\n",
    "    sidebar=[symbol_selector, interval_selector],\n",
    "    main=[pn.Column(plot_ath_comparison, plot_price_over_time, sizing_mode=\"stretch_both\")],\n",
    "    main_layout=None,\n",
    "    accent=ACCENT,\n",
    ").servable();"
   ]
  },
  {
   "cell_type": "markdown",
   "id": "71696464-7f9e-438a-b6ad-e08a7a1c56de",
   "metadata": {},
   "source": [
    "# Simple Cryptocurrency Dashboard [Script-Version]"
   ]
  },
  {
   "cell_type": "markdown",
   "id": "a0e53b3a-9653-4c35-a433-7b00d2df7568",
   "metadata": {},
   "source": [
    "**How2Use**\n",
    "- Uncomment content of following code block, copy&paste and save as .py script.\n",
    "- Serve App in terminal with ``bokeh serve crypto_prices_over_time.py``  "
   ]
  },
  {
   "cell_type": "code",
   "execution_count": 177,
   "id": "c3134c61-8ece-4e14-9894-62e676fcc75a",
   "metadata": {},
   "outputs": [],
   "source": [
    "# # Cryptocurrency Dashboard\n",
    "\n",
    "# # Import Libraries\n",
    "# import os\n",
    "# from dotenv import load_dotenv\n",
    "\n",
    "# import requests\n",
    "# import pandas as pd\n",
    "# import panel as pn\n",
    "# import plotly.graph_objects as go\n",
    "# import matplotlib.colors as mcolors\n",
    "# from datetime import datetime, timedelta\n",
    "\n",
    "# pn.extension('plotly')\n",
    "\n",
    "# # Load API Key from .env file\n",
    "# load_dotenv('keys.env')\n",
    "# BINANCE_API_KEY = os.getenv('BINANCE_API_KEY')\n",
    "\n",
    "# # Binance API Constants\n",
    "# BINANCE_API_URL = 'https://api.binance.us/api/v3/klines'\n",
    "# BINANCE_API_URL_CURRENT_PRICE = 'https://api.binance.us/api/v3/ticker/price?symbol='\n",
    "\n",
    "# # Helper Functions\n",
    "\n",
    "# @pn.cache()\n",
    "# def fetch_historical_data(symbol='BTCUSDT', interval='1d', start_time=None, end_time=None, limit=1000):\n",
    "#     \"\"\"Fetch historical data for a given symbol from Binance API.\"\"\"\n",
    "#     params = {\n",
    "#         'symbol': symbol,\n",
    "#         'interval': interval,\n",
    "#         'limit': limit,\n",
    "#         'startTime': start_time,\n",
    "#         'endTime': end_time\n",
    "#     }\n",
    "#     response = requests.get(BINANCE_API_URL, headers={'X-MBX-APIKEY': BINANCE_API_KEY}, params=params)\n",
    "\n",
    "#     if response.status_code != 200:\n",
    "#         print(f\"Error {response.status_code}: {response.text}\")\n",
    "#         return None\n",
    "\n",
    "#     data = response.json()\n",
    "#     df = pd.DataFrame(data, columns=[\n",
    "#         'Open Time', 'Open', 'High', 'Low', 'Close', 'Volume',\n",
    "#         'Close Time', 'Quote Asset Volume', 'Number of Trades',\n",
    "#         'Taker Buy Base Asset Volume', 'Taker Buy Quote Asset Volume', 'Ignore'\n",
    "#     ])\n",
    "#     df['Date'] = pd.to_datetime(df['Open Time'], unit='ms')\n",
    "#     df = df.drop(columns=['Open Time', 'Close Time', 'Quote Asset Volume',\n",
    "#                           'Taker Buy Base Asset Volume', 'Taker Buy Quote Asset Volume', 'Ignore'])\n",
    "#     df['Symbol'] = symbol[:-4]\n",
    "#     df['Close'] = df['Close'].astype(float)\n",
    "#     return df\n",
    "\n",
    "# @pn.cache()\n",
    "# def fetch_current_price(symbol):\n",
    "#     \"\"\"Fetch the current price for a given symbol from Binance API.\"\"\"\n",
    "#     url = BINANCE_API_URL_CURRENT_PRICE + symbol\n",
    "#     response = requests.get(url)\n",
    "#     if response.status_code == 200:\n",
    "#         data = response.json()\n",
    "#         return float(data.get('price', 0))\n",
    "#     else:\n",
    "#         print(f\"Error fetching current price for {symbol}: {response.status_code}\")\n",
    "#         return None\n",
    "\n",
    "# def add_moving_averages(df):\n",
    "#     \"\"\"Add Simple and Exponential Moving Averages to the DataFrame.\"\"\"\n",
    "#     df['SMA_50'] = df['Close'].rolling(window=50).mean()\n",
    "#     df['SMA_200'] = df['Close'].rolling(window=200).mean()\n",
    "#     df['EMA_50'] = df['Close'].ewm(span=50, adjust=False).mean()\n",
    "#     df['EMA_200'] = df['Close'].ewm(span=200, adjust=False).mean()\n",
    "#     return df\n",
    "\n",
    "# def convert_color(color_name, opacity=0.8):\n",
    "#     \"\"\"Convert a color name to rgba format.\"\"\"\n",
    "#     rgba = mcolors.to_rgba(color_name, opacity)\n",
    "#     return f'rgba({int(rgba[0]*255)}, {int(rgba[1]*255)}, {int(rgba[2]*255)}, {rgba[3]})'\n",
    "\n",
    "# # Colors\n",
    "# colors_a = {\n",
    "#     'BTC': 'orange',\n",
    "#     'ETH': 'mediumpurple',\n",
    "#     'BNB': 'indianred'\n",
    "# }\n",
    "\n",
    "# colors_b = {\n",
    "#     'BTC': 'gold',\n",
    "#     'ETH': 'plum',\n",
    "#     'BNB': 'lightsalmon'\n",
    "# }\n",
    "\n",
    "# # Intervals\n",
    "# intervals = {\n",
    "#     'All_Time': [None, None],\n",
    "#     '5Y': [int((datetime.now() - timedelta(days=5*365)).timestamp() * 1000), None],\n",
    "#     '1Y': [int((datetime.now() - timedelta(days=365)).timestamp() * 1000), None],\n",
    "#     '6M': [int((datetime.now() - timedelta(days=180)).timestamp() * 1000), None],\n",
    "#     '3M': [int((datetime.now() - timedelta(days=90)).timestamp() * 1000), None],\n",
    "#     '1M': [int((datetime.now() - timedelta(days=30)).timestamp() * 1000), None],\n",
    "#     '2W': [int((datetime.now() - timedelta(days=14)).timestamp() * 1000), None],\n",
    "#     '1W': [int((datetime.now() - timedelta(days=7)).timestamp() * 1000), None],\n",
    "# }\n",
    "\n",
    "# # Fetching Data and Building DataFrames\n",
    "\n",
    "# symbols = ['BTCUSDT', 'ETHUSDT', 'BNBUSDT']\n",
    "# dataframes = []\n",
    "# ath_dict = {}\n",
    "# current_price_dict = {}\n",
    "\n",
    "# # Populate dataframes and dictionaries\n",
    "# for symbol in symbols:\n",
    "#     df = fetch_historical_data(symbol=symbol)\n",
    "#     df = add_moving_averages(df)\n",
    "#     dataframes.append(df)\n",
    "    \n",
    "#     ath_dict[symbol[:-4]] = df['High'].max()\n",
    "#     current_price_dict[symbol[:-4]] = fetch_current_price(symbol)\n",
    "\n",
    "# combined_df = pd.concat(dataframes)\n",
    "\n",
    "# # Dashboard Components\n",
    "\n",
    "# symbol_selector = pn.widgets.Select(name='Cryptocurrency', options=[symbol[:-4] for symbol in symbols], value='BTC')\n",
    "# interval_selector = pn.widgets.Select(name='Time Interval', options=list(intervals.keys()), value='1Y')\n",
    "\n",
    "# @pn.depends(symbol_selector, interval_selector)\n",
    "# def update_dashboard(symbol, interval):\n",
    "#     # Fetch data\n",
    "#     df_symbol = combined_df[combined_df['Symbol'] == symbol]\n",
    "#     ath = ath_dict.get(symbol, 0)\n",
    "#     current_price = current_price_dict.get(symbol, 0)\n",
    "\n",
    "#     # Check if values are floats; otherwise, convert or set to 0\n",
    "#     try:\n",
    "#         ath = float(ath)\n",
    "#     except ValueError:\n",
    "#         ath = 0\n",
    "\n",
    "#     try:\n",
    "#         current_price = float(current_price)\n",
    "#     except ValueError:\n",
    "#         current_price = 0\n",
    "\n",
    "#     # Create plots\n",
    "#     fig_ath = go.Figure()\n",
    "\n",
    "#     fig_ath.add_trace(go.Bar(\n",
    "#         name=f'{symbol} All-Time-High: $ {ath:.2f}',\n",
    "#         y=[symbol],\n",
    "#         x=[ath],\n",
    "#         marker_color=convert_color(colors_b[symbol], 0.6),\n",
    "#         orientation='h',\n",
    "#         hovertemplate=f'{symbol}<br>All-Time-High: $ %{{x:.2f}}<extra></extra>'\n",
    "#     ))\n",
    "\n",
    "#     fig_ath.add_trace(go.Bar(\n",
    "#         name=f'{symbol} Current Price: $ {current_price:.2f}',\n",
    "#         y=[symbol],\n",
    "#         x=[current_price],\n",
    "#         marker_color=convert_color(colors_a[symbol], 0.8),\n",
    "#         orientation='h',\n",
    "#         hovertemplate=f'{symbol}<br>Latest Price: $ %{{x:.2f}}<extra></extra>'\n",
    "#     ))\n",
    "\n",
    "#     fig_ath.update_layout(\n",
    "#         title_text=f\"{symbol} Market Overview: Current Price vs. All-Time High\",\n",
    "#         xaxis_title=\"Price (USD)\",\n",
    "#         barmode='overlay',\n",
    "#         xaxis_type='log',\n",
    "#         template='plotly_white'\n",
    "#     )\n",
    "\n",
    "#     # Generate interval price curve\n",
    "#     fig_price = go.Figure()\n",
    "\n",
    "#     # Filter data by interval\n",
    "#     start_time, end_time = intervals[interval]\n",
    "#     df_filtered = df_symbol[(df_symbol['Date'] >= pd.to_datetime(start_time, unit='ms'))] if start_time else df_symbol\n",
    "\n",
    "#     fig_price.add_trace(go.Scatter(\n",
    "#         x=df_filtered['Date'],\n",
    "#         y=df_filtered['Close'],\n",
    "#         mode='lines',\n",
    "#         name=f'{symbol} Close',\n",
    "#         line=dict(color=convert_color(colors_a[symbol], 0.8)),\n",
    "#         fill='tozeroy',\n",
    "#         fillcolor=convert_color(colors_b[symbol], 0.6),\n",
    "#         hovertemplate=f'{symbol}<br>Date: %{{x}}<br>Close: $ %{{y:.2f}}<extra></extra>'\n",
    "#     ))\n",
    "\n",
    "#     fig_price.update_layout(\n",
    "#         title_text=f\"{symbol} Price Over Time ({interval})\",\n",
    "#         xaxis_title=\"Date\",\n",
    "#         yaxis_title=\"Price (USD)\",\n",
    "#         yaxis_type=\"log\",\n",
    "#         #xaxis_rangeslider_visible=True,\n",
    "#         template='plotly_white'\n",
    "#     )\n",
    "\n",
    "#     return pn.Column(\n",
    "#         pn.pane.Markdown(f\"## {symbol} Overview\"),\n",
    "#         pn.pane.Plotly(fig_ath, height=350),\n",
    "#         pn.pane.Plotly(fig_price, height=500)\n",
    "#     )\n",
    "    \n",
    "# # Layout the dashboard\n",
    "# dashboard = pn.Column(\n",
    "#     \"# Cryptocurrency Dashboard\",\n",
    "#     symbol_selector,\n",
    "#     interval_selector,\n",
    "#     update_dashboard\n",
    "# )\n",
    "\n",
    "# # Serve the dashboard\n",
    "# dashboard.servable()"
   ]
  },
  {
   "cell_type": "markdown",
   "id": "54b35154-a15b-4f05-854a-7f5f35cf45a8",
   "metadata": {},
   "source": [
    "## Troubleshooting"
   ]
  },
  {
   "cell_type": "code",
   "execution_count": 8,
   "id": "5bc8cb40-1000-45a2-9290-7fd54319262d",
   "metadata": {},
   "outputs": [
    {
     "name": "stdout",
     "output_type": "stream",
     "text": [
      "403\n",
      "<HTML>\n",
      "  <HEAD>\n",
      "     Access Denied\n",
      "  </HEAD>\n",
      "<BODY>\n",
      "\n",
      "<h1>Access Denied</h1>\n",
      "\n",
      "<p>\n",
      "Access to arbitrary websites is not available from free accounts;\n",
      "you can only access sites that are on our\n",
      "<a href=\"http://www.pythonanywhere.com/whitelist\">allowlist</a>.\n",
      "If you want to suggest something to add to our whitelist\n",
      "drop us a line at PythonAnywhere Support <nbusercare@pythonanywhere.com>.  It will have\n",
      "to have an official public API.\n",
      "</p>\n",
      "\n",
      "\n",
      "<p>\n",
      "Alternatively, you can sign up for a paid account at\n",
      "<a href=\"http://www.pythonanywhere.com/account/\">http://www.pythonanywhere.com/account/</a>\n",
      "</p>\n",
      "<p>\n",
      "If you have already got a paid account and you're still getting this messge,\n",
      "you may need to reload your web app (from the \"Web\" tab) or restart\n",
      "your consoles.  If that doesn't help, drop us a line at PythonAnywhere Support <nbusercare@pythonanywhere.com>.\n",
      "</p>\n",
      "\n",
      "</BODY>\n",
      "\n"
     ]
    }
   ],
   "source": [
    "import requests\n",
    "\n",
    "# Replace <your-ip-address> with the actual IP address\n",
    "url = \"http://your_ip/5006/crypto_prices_over_time\" # find IP in terminal: hostname -I\n",
    "response = requests.get(url)\n",
    "\n",
    "# Check the response\n",
    "print(response.status_code)\n",
    "print(response.text)"
   ]
  },
  {
   "cell_type": "code",
   "execution_count": null,
   "id": "0a7b8cc5-ece4-45eb-8d9a-6b55aaf9297d",
   "metadata": {},
   "outputs": [],
   "source": []
  }
 ],
 "metadata": {
  "kernelspec": {
   "display_name": "jupyter_env",
   "language": "python",
   "name": "python3"
  },
  "language_info": {
   "codemirror_mode": {
    "name": "ipython",
    "version": 3
   },
   "file_extension": ".py",
   "mimetype": "text/x-python",
   "name": "python",
   "nbconvert_exporter": "python",
   "pygments_lexer": "ipython3",
   "version": "3.11.11"
  }
 },
 "nbformat": 4,
 "nbformat_minor": 5
}
